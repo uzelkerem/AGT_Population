{
 "cells": [
  {
   "cell_type": "code",
   "execution_count": 1,
   "id": "d438bc20",
   "metadata": {},
   "outputs": [],
   "source": [
    "# Import libraries. \n",
    "# Generate images in the notebook\n",
    "%matplotlib inline\n",
    "\n",
    "import matplotlib.pyplot as plt\n",
    "import collections\n",
    "from collections import defaultdict\n",
    "import gzip\n",
    "import itertools\n",
    "import numpy as np\n",
    "import os\n",
    "import time\n",
    "import pandas as pd\n",
    "import seaborn as sns\n",
    "\n",
    "import bokeh\n",
    "import bokeh.io\n",
    "from bokeh.io import push_notebook\n",
    "from bokeh.plotting import figure, show, save, output_notebook, output_file\n",
    "\n",
    "# Import colour palettes for later on\n",
    "from bokeh.palettes import Category20b\n",
    "from bokeh.palettes import Purples\n",
    "from bokeh.palettes import Greens\n",
    "from bokeh.palettes import YlOrBr\n",
    "from bokeh.palettes import YlOrRd\n",
    "from bokeh.palettes import PuOr\n",
    "from bokeh.palettes import RdGy\n",
    "\n",
    "# Dimension reduction tools\n",
    "from sklearn.decomposition import PCA as PCA\n",
    "from sklearn.manifold import TSNE\n",
    "import umap "
   ]
  },
  {
   "cell_type": "code",
   "execution_count": 3,
   "id": "5866df4d",
   "metadata": {
    "scrolled": true
   },
   "outputs": [
    {
     "name": "stdout",
     "output_type": "stream",
     "text": [
      "0 FID   IID            CLUSTER\n",
      "0   1   ACP             Picard\n",
      "1   2   AGO             Picard\n",
      "2   3   AHC             Picard\n",
      "3   4  AM01  West_Grande_Terre\n",
      "4   5  AM07  West_Grande_Terre\n",
      "0 FID   IID          CLUSTER\n",
      "0   1   ACP           Picard\n",
      "1   2   AGO           Picard\n",
      "2   3   AHC           Picard\n",
      "3   4  AM01  SW_Grande_Terre\n",
      "4   5  AM07  SW_Grande_Terre\n"
     ]
    }
   ],
   "source": [
    "#loading population data\n",
    "population_key= pd.read_csv(\"sample_key.txt\", sep='\\t', header=None)\n",
    "#population_key.set_index()\n",
    "\n",
    "#changing the first row to headers\n",
    "headers = population_key.iloc[0]\n",
    "population_key_new  = pd.DataFrame(population_key.values[1:], columns=headers) \n",
    "print(population_key_new.head(5))\n",
    "\n",
    "# Regroup S GT and W GT together as SW GT\n",
    "population_key_new2=population_key_new\n",
    "population_key_new2.loc[population_key_new2['CLUSTER'] == 'West_Grande_Terre', 'CLUSTER'] = 'SW_Grande_Terre'\n",
    "population_key_new2.loc[population_key_new2['CLUSTER'] == 'South_Grande_Terre', 'CLUSTER'] = 'SW_Grande_Terre'\n",
    "print(population_key_new2.head(5))\n",
    "\n"
   ]
  },
  {
   "cell_type": "code",
   "execution_count": 4,
   "id": "988336ca",
   "metadata": {},
   "outputs": [],
   "source": [
    "clusters_to_check=('SW_Grande_Terre','East_Grande_Terre','East_Malabar','West_Malabar')\n",
    "#print(len(clusters_to_check))\n",
    "#print(clusters_to_check[0])\n",
    "\n",
    "#deneme\n",
    "#Pop1=population_key_new.loc[population_key_new['CLUSTER'] == 'Picard', 'FID']\n",
    "\n",
    "#print(Pop1)"
   ]
  },
  {
   "cell_type": "code",
   "execution_count": 7,
   "id": "5e9a3444",
   "metadata": {},
   "outputs": [
    {
     "name": "stdout",
     "output_type": "stream",
     "text": [
      "dict_keys(['SW_Grande_Terre', 'East_Grande_Terre', 'East_Malabar', 'West_Malabar'])\n",
      "{'SW_Grande_Terre': array(['4', '5', '6', '7', '10', '11', '12', '13', '14', '15', '16', '46',\n",
      "       '47', '48', '49', '50', '51', '53', '54', '55', '56', '57', '58',\n",
      "       '59', '60', '61', '62', '128', '129', '130', '133'], dtype=object), 'East_Grande_Terre': array(['23', '24', '25', '26', '27', '28', '29', '30', '31', '32', '33',\n",
      "       '34', '35', '36', '37', '38', '70', '71', '72', '73', '74', '131',\n",
      "       '132', '134', '135'], dtype=object), 'East_Malabar': array(['102', '103', '104', '105', '106', '107', '108', '109', '110',\n",
      "       '111', '112', '113', '114', '115', '116', '117'], dtype=object), 'West_Malabar': array(['136', '137', '138', '139', '140', '141', '142'], dtype=object)}\n"
     ]
    }
   ],
   "source": [
    "#generate dictionaries that contains clusters to check and IDs in it\n",
    "#df is the dataframe version and np is numpy array, will continue with np\n",
    "\n",
    "struct_df=dict() #initiate an empty dictionary\n",
    "struct_np=dict() #initiate an empty dictionary\n",
    "\n",
    "for i in range(0,len(clusters_to_check)):\n",
    "    struct_df[clusters_to_check[i]] = pd.DataFrame(population_key_new2.loc[population_key_new['CLUSTER'] == clusters_to_check[i], 'FID'])\n",
    "    struct_np[clusters_to_check[i]] = np.array((population_key_new2.loc[population_key_new['CLUSTER'] == clusters_to_check[i], 'FID']))\n",
    "\n",
    "\n",
    "#print(struct_np['South_Grande_Terre'])\n",
    "print(struct_np.keys())\n",
    "print(struct_np)"
   ]
  },
  {
   "cell_type": "code",
   "execution_count": 8,
   "id": "63a92f95",
   "metadata": {},
   "outputs": [
    {
     "name": "stdout",
     "output_type": "stream",
     "text": [
      "6\n",
      "[('SW_Grande_Terre', 'East_Grande_Terre'), ('SW_Grande_Terre', 'East_Malabar'), ('SW_Grande_Terre', 'West_Malabar'), ('East_Grande_Terre', 'East_Malabar'), ('East_Grande_Terre', 'West_Malabar'), ('East_Malabar', 'West_Malabar')]\n"
     ]
    }
   ],
   "source": [
    "#generating combinations of the clusters to check so that the histograms etc. will be as Cluster1 vs Cluster2\n",
    "from itertools import combinations\n",
    "\n",
    "combs= list(combinations(struct_np.keys(), 2))\n",
    "\n",
    "print(len(combs))\n",
    "print(combs)"
   ]
  },
  {
   "cell_type": "code",
   "execution_count": null,
   "id": "621b22e7",
   "metadata": {},
   "outputs": [],
   "source": [
    "#deneme modulu\n",
    "#for element in itertools.product([1,2,3],[4,5,6]):\n",
    "#    print(element)"
   ]
  },
  {
   "cell_type": "code",
   "execution_count": null,
   "id": "557a7820",
   "metadata": {},
   "outputs": [],
   "source": [
    "#deneme modulu 2\n",
    "#for element in itertools.product(struct_np[combs[5][0]],struct_np[combs[5][1]]):\n",
    "#       print(element)"
   ]
  },
  {
   "cell_type": "code",
   "execution_count": 9,
   "id": "ab9886aa",
   "metadata": {},
   "outputs": [
    {
     "name": "stdout",
     "output_type": "stream",
     "text": [
      "   a  b  ida  idb   nSites        J9        J8        J7        J6        J5  \\\n",
      "0  1  2  ACP  AGO  4398322  0.449125  0.281608  0.057019  0.055365  0.013619   \n",
      "1  1  3  ACP  AHC  4329358  0.422116  0.324969  0.023196  0.024080  0.062928   \n",
      "\n",
      "   ...         loglh  nIter  bestoptimll  coverage  \\\n",
      "0  ... -5.831279e+06    178         -1.0  0.593536   \n",
      "1  ... -5.641914e+06    178         -1.0  0.584229   \n",
      "\n",
      "                                               2dsfs        R0        R1  \\\n",
      "0  4.297776e-01,1.356807e-01,2.965957e-02,1.29289...  0.507865  0.308364   \n",
      "1  4.353710e-01,1.364934e-01,2.287467e-02,1.34146...  0.461462  0.286587   \n",
      "\n",
      "       KING  2dsfs_loglike  2dsfsf_niter  \n",
      "0 -0.003322  -6.275533e+06            30  \n",
      "1  0.015330  -6.076937e+06            30  \n",
      "\n",
      "[2 rows x 35 columns]\n"
     ]
    }
   ],
   "source": [
    "#loading relatedness data and correcting the idx so that there wont be 0 and it will match the individual samples' id\n",
    "relatedness= pd.read_csv(\"deneme_rm1_20_m05.txt\", sep='\\t') # load relatedness data\n",
    "relatedness['a']=relatedness['a']+1 # correct the IDs so that they will match the ones in the dictionaries as combinations\n",
    "relatedness['b']=relatedness['b']+1 # same as above, this time for the b column.\n",
    "print(relatedness.head(2))"
   ]
  },
  {
   "cell_type": "code",
   "execution_count": 10,
   "id": "bbe122e0",
   "metadata": {},
   "outputs": [
    {
     "name": "stdout",
     "output_type": "stream",
     "text": [
      "[25]\n"
     ]
    }
   ],
   "source": [
    "#print(([1,0] == [0,1]))\n",
    "\n",
    "deneme=np.array(relatedness.iloc[:,0:2])\n",
    "#print(deneme)\n",
    "\n",
    "input=[1,27]\n",
    "\n",
    "#indis=np.where(deneme[:,0] == input[0] & deneme[:,1] == input[1])\n",
    "\n",
    "indis=np.where((deneme[:,0] == input[0]) & (deneme[:,1] == input[1]))\n",
    "\n",
    "print(indis[0])"
   ]
  },
  {
   "cell_type": "code",
   "execution_count": 11,
   "id": "069e4ddd",
   "metadata": {},
   "outputs": [],
   "source": [
    "pair_ids=np.array(relatedness.iloc[:,0:2])\n",
    "\n",
    "indices_np=dict()\n",
    "values_np=dict()\n",
    "i=5 \n",
    "\n",
    "indices_np[combs[i][0]+'_vs_'+combs[i][1]]=[]\n",
    "values_np[combs[i][0]+'_vs_'+combs[i][1]]=[]\n",
    "\n",
    "\n"
   ]
  },
  {
   "cell_type": "code",
   "execution_count": 12,
   "id": "ed297431",
   "metadata": {},
   "outputs": [
    {
     "name": "stdout",
     "output_type": "stream",
     "text": [
      "[1, 5]\n",
      "(array([3]),)\n",
      "(array([], dtype=int64),)\n",
      "[5, 1]\n"
     ]
    }
   ],
   "source": [
    "element=[5,1]\n",
    "element_srt=sorted(element)\n",
    "print(element_srt)\n",
    "print(np.where((pair_ids[:,0] == element_srt[0]) & (pair_ids[:,1] == element_srt[1])))\n",
    "\n",
    "temp_idx=np.where((pair_ids[:,0] == element[0]) & (pair_ids[:,1] == element[1]))\n",
    "\n",
    "print(temp_idx)\n",
    "print(element)\n"
   ]
  },
  {
   "cell_type": "code",
   "execution_count": null,
   "id": "144a1d8b",
   "metadata": {},
   "outputs": [],
   "source": [
    "element=[23,102]\n",
    "if element[0] > element[1]:\n",
    "    print('a')"
   ]
  },
  {
   "cell_type": "code",
   "execution_count": 16,
   "id": "d7bd576b",
   "metadata": {},
   "outputs": [
    {
     "name": "stdout",
     "output_type": "stream",
     "text": [
      "('23', '102')\n",
      "[0.030861]\n"
     ]
    }
   ],
   "source": [
    "#in a for loop we will search through the relatedness data for the Cluster1vsCluster2 Id's and then take the rab value\n",
    "#from column14\n",
    "\n",
    "pair_ids=np.array(relatedness.iloc[:,0:2])\n",
    "\n",
    "indices_np=dict()\n",
    "values_np=dict()\n",
    "for i in range(0,len(combs)):\n",
    "    indices_np[combs[i][0]+'_vs_'+combs[i][1]]=[]\n",
    "    values_np[combs[i][0]+'_vs_'+combs[i][1]]=[]\n",
    "    for element in itertools.product(struct_np[combs[i][0]],struct_np[combs[i][1]]):\n",
    "\n",
    "\n",
    "        if int(element[0]) > int(element[1]):\n",
    "           # print('degistirelim:')\n",
    "            element_srt=sorted(element)\n",
    "        else:\n",
    "          #  print('bununla devam:')\n",
    "            element_srt=element\n",
    "            \n",
    "        #print(element)\n",
    "        indices_np[combs[i][0]+'_vs_'+combs[i][1]].append(element_srt) # element is the pair of IDa vs IDb such as 1x143\n",
    "        \n",
    "        temp_idx=np.where((pair_ids[:,0] == int(element_srt[0])) & (pair_ids[:,1] == int(element_srt[1])))        \n",
    "        values_np[combs[i][0]+'_vs_'+combs[i][1]].append(relatedness.iloc[temp_idx[0],14].to_numpy()) # 14 is to take out rab data\n",
    "        del temp_idx\n",
    "                \n",
    "print(indices_np['East_Grande_Terre_vs_East_Malabar'][0])\n",
    "print(values_np['East_Grande_Terre_vs_East_Malabar'][0])\n",
    "\n",
    "#print(values_np['East_Grande_Terre_vs_East_Malabar'][:])\n",
    "\n",
    "#plt.hist(values_np['East_Grande_Terre_vs_East_Malabar'])\n",
    "\n",
    "deneme=np.asarray(values_np['East_Grande_Terre_vs_East_Malabar'])\n",
    "\n",
    "#print(deneme)\n",
    "\n"
   ]
  },
  {
   "cell_type": "code",
   "execution_count": 17,
   "id": "e11258c9",
   "metadata": {},
   "outputs": [
    {
     "name": "stdout",
     "output_type": "stream",
     "text": [
      "dict_keys(['SW_Grande_Terre_vs_East_Grande_Terre', 'SW_Grande_Terre_vs_East_Malabar', 'SW_Grande_Terre_vs_West_Malabar', 'East_Grande_Terre_vs_East_Malabar', 'East_Grande_Terre_vs_West_Malabar', 'East_Malabar_vs_West_Malabar'])\n"
     ]
    }
   ],
   "source": [
    "print(values_np.keys())"
   ]
  },
  {
   "cell_type": "code",
   "execution_count": 51,
   "id": "9c087cd3",
   "metadata": {},
   "outputs": [
    {
     "name": "stdout",
     "output_type": "stream",
     "text": [
      "775\n"
     ]
    },
    {
     "name": "stderr",
     "output_type": "stream",
     "text": [
      "/var/folders/5c/dpc69bms35s7wc11y9mrgd7h001r18/T/ipykernel_31555/2735829490.py:7: VisibleDeprecationWarning: Creating an ndarray from ragged nested sequences (which is a list-or-tuple of lists-or-tuples-or ndarrays with different lengths or shapes) is deprecated. If you meant to do this, you must specify 'dtype=object' when creating the ndarray.\n",
      "  temp_data=np.asarray(values_np['SW_Grande_Terre_vs_East_Grande_Terre'])\n"
     ]
    }
   ],
   "source": [
    "#for i, key in enumerate(values_np.keys()):\n",
    "#    print(i)\n",
    "#    print(key)\n",
    "   # print(np.asarray(np.asarray(values_np['SW_Grande_Terre_vs_East_Grande_Terre'])))\n",
    "    \n",
    "\n",
    "temp_data=np.asarray(values_np['SW_Grande_Terre_vs_East_Grande_Terre'])\n",
    "\n",
    "print(temp_data.shape[0])\n",
    "\n"
   ]
  },
  {
   "cell_type": "code",
   "execution_count": 60,
   "id": "cbfbdf24",
   "metadata": {},
   "outputs": [
    {
     "name": "stderr",
     "output_type": "stream",
     "text": [
      "/var/folders/5c/dpc69bms35s7wc11y9mrgd7h001r18/T/ipykernel_31555/681116610.py:9: VisibleDeprecationWarning: Creating an ndarray from ragged nested sequences (which is a list-or-tuple of lists-or-tuples-or ndarrays with different lengths or shapes) is deprecated. If you meant to do this, you must specify 'dtype=object' when creating the ndarray.\n",
      "  temp_data=np.asarray(values_np[key])\n",
      "/var/folders/5c/dpc69bms35s7wc11y9mrgd7h001r18/T/ipykernel_31555/681116610.py:10: DeprecationWarning: The truth value of an empty array is ambiguous. Returning False, but in future this will result in an error. Use `array.size > 0` to check that an array is not empty.\n",
      "  temp_data = temp_data[ (temp_data >= 0.01)]\n"
     ]
    },
    {
     "name": "stdout",
     "output_type": "stream",
     "text": [
      "(15,)\n",
      "(88,)\n",
      "(244,)\n",
      "(7,)\n",
      "(0,)\n"
     ]
    },
    {
     "data": {
      "image/png": "[encoded data removed]",
      "text/plain": [
       "<Figure size 432x288 with 6 Axes>"
      ]
     },
     "metadata": {
      "needs_background": "light"
     },
     "output_type": "display_data"
    }
   ],
   "source": [
    "plt.figure()\n",
    "plt.subplots_adjust(hspace=0.5)\n",
    "#plt.suptitle(\"Histograms\", fontsize=18, y=0.95)\n",
    "#fig, ax = plt.subplots(1, 2, sharex='col', sharey='row')\n",
    "#fig, axs = plt.subplots(2, 3, sharex='col', sharey='row')\n",
    "\n",
    "# loop through the length of tickers and keep track of index\n",
    "for i, key in enumerate(values_np.keys()):\n",
    "    temp_data=np.asarray(values_np[key])\n",
    "    temp_data = temp_data[ (temp_data >= 0.01)]\n",
    "\n",
    "    ax = plt.subplot(2, 3, i + 1)\n",
    "    if i>=1:\n",
    "        ax.hist(temp_data)\n",
    "        print(temp_data.shape)\n",
    "      #  print(temp_data)\n",
    "    \n",
    "    # add a new subplot iteratively    \n",
    "    # filter df and plot ticker on the new subplot axis\n",
    "  #  plt.hist(np.asarray(values_np[key]),bins=10)\n",
    "    \n",
    "    \n",
    "    \n",
    "    \n",
    "    # chart formatting\n",
    "#    plt.set_title(values_np[key])\n",
    "   # ax.get_legend().remove()\n",
    "  #  ax.set_xlabel(\"\")\n",
    "\n",
    "#plt.show()       \n",
    "#for loop to convert lists into arrays\n",
    "#for i in values_np.keys():\n",
    "#    temp_array=np.asarray(values_np[i])\n",
    "#    plt.hist(temp_array,bins=10)\n"
   ]
  },
  {
   "cell_type": "code",
   "execution_count": null,
   "id": "1f1a1fa2",
   "metadata": {},
   "outputs": [],
   "source": []
  },
  {
   "cell_type": "code",
   "execution_count": null,
   "id": "ec600956",
   "metadata": {},
   "outputs": [],
   "source": [
    "relatedness= pd.read_csv(\"deneme_rm1_20_m05.txt\", sep='\\t', header=None)\n",
    "print(relatedness.head(2))\n",
    "print(relatedness.shape)\n"
   ]
  },
  {
   "cell_type": "code",
   "execution_count": null,
   "id": "35f5ce3c",
   "metadata": {},
   "outputs": [],
   "source": [
    "relatedness_matrix=np.zeros((cluster_names.shape[0],cluster_names.shape[0]))\n",
    "deneme=[]"
   ]
  },
  {
   "cell_type": "code",
   "execution_count": null,
   "id": "24ebd8c7",
   "metadata": {},
   "outputs": [],
   "source": [
    "print(relatedness.iloc[1,14])\n",
    "print(relatedness.iloc[1,0])\n",
    "print(relatedness.iloc[1,1])\n",
    "\n",
    "%print( relatedness_matrix[int(relatedness.iloc[1,0]),int(relatedness.iloc[1,1])])\n"
   ]
  },
  {
   "cell_type": "code",
   "execution_count": null,
   "id": "f54c17ff",
   "metadata": {},
   "outputs": [],
   "source": [
    "\n",
    "relatedness_matrix=np.zeros((cluster_names.shape[0],cluster_names.shape[0])) # generate an empty matrix with zeros\n",
    "\n",
    "#we fill the relatedness matrix with ida vs idb and the value in rab column.\n",
    "for i in range(1,relatedness.shape[0]):\n",
    "    relatedness_matrix[int(relatedness.iloc[i,0]),int(relatedness.iloc[i,1])]=relatedness.iloc[i,14] # 14 stands for rab column\n",
    "    relatedness_matrix[int(relatedness.iloc[i,1]),int(relatedness.iloc[i,0])]=relatedness.iloc[i,14] # 14 stands for rab column\n",
    "\n",
    "\n",
    "    "
   ]
  },
  {
   "cell_type": "code",
   "execution_count": null,
   "id": "a316007d",
   "metadata": {},
   "outputs": [],
   "source": [
    "print(relatedness_matrix[2,4])\n",
    "sns.heatmap(relatedness_matrix)"
   ]
  },
  {
   "cell_type": "code",
   "execution_count": null,
   "id": "80f4134e",
   "metadata": {},
   "outputs": [],
   "source": [
    "cluster_names_list=population_key_new['CLUSTER'].tolist()\n",
    "#cluster_names_list_srt=sorted(cluster_names_list)\n",
    "\n",
    "cluster_names_list_srt_indices=np.argsort(cluster_names_list)\n",
    "\n",
    "\n",
    "print(cluster_names_list_srt_indices[0:5])\n",
    "#print(cluster_names_list_srt[0:5])\n",
    "\n",
    "\n",
    "\n"
   ]
  },
  {
   "cell_type": "code",
   "execution_count": null,
   "id": "82b73b87",
   "metadata": {},
   "outputs": [],
   "source": [
    "#trying to reorder the matrix according to the new key\n",
    "#new_order = [0, 3, 1, 4, 2, 5]    # maps previous index to new index\n",
    "relatedness_matrix_sorted = [[relatedness_matrix[i][j] for j in cluster_names_list_srt_indices] for i in cluster_names_list_srt_indices]"
   ]
  },
  {
   "cell_type": "code",
   "execution_count": null,
   "id": "162c6d20",
   "metadata": {},
   "outputs": [],
   "source": [
    "sns.heatmap(relatedness_matrix_sorted)"
   ]
  },
  {
   "cell_type": "code",
   "execution_count": null,
   "id": "725ac32a",
   "metadata": {},
   "outputs": [],
   "source": []
  }
 ],
 "metadata": {
  "kernelspec": {
   "display_name": "aldabra",
   "language": "python",
   "name": "aldabra"
  },
  "language_info": {
   "codemirror_mode": {
    "name": "ipython",
    "version": 3
   },
   "file_extension": ".py",
   "mimetype": "text/x-python",
   "name": "python",
   "nbconvert_exporter": "python",
   "pygments_lexer": "ipython3",
   "version": "3.10.9"
  }
 },
 "nbformat": 4,
 "nbformat_minor": 5
}
