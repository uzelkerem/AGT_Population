{
 "cells": [
  {
   "cell_type": "code",
   "execution_count": 1,
   "id": "d438bc20",
   "metadata": {},
   "outputs": [],
   "source": [
    "# Import libraries. \n",
    "# Generate images in the notebook\n",
    "%matplotlib inline\n",
    "\n",
    "import matplotlib.pyplot as plt\n",
    "import collections\n",
    "from collections import defaultdict\n",
    "import gzip\n",
    "import itertools\n",
    "import numpy as np\n",
    "import os\n",
    "import time\n",
    "import pandas as pd\n",
    "import seaborn as sns\n",
    "\n",
    "import bokeh\n",
    "import bokeh.io\n",
    "from bokeh.io import push_notebook\n",
    "from bokeh.plotting import figure, show, save, output_notebook, output_file\n",
    "\n",
    "# Import colour palettes for later on\n",
    "from bokeh.palettes import Category20b\n",
    "from bokeh.palettes import Purples\n",
    "from bokeh.palettes import Greens\n",
    "from bokeh.palettes import YlOrBr\n",
    "from bokeh.palettes import YlOrRd\n",
    "from bokeh.palettes import PuOr\n",
    "from bokeh.palettes import RdGy\n",
    "\n",
    "# Dimension reduction tools\n",
    "from sklearn.decomposition import PCA as PCA\n",
    "from sklearn.manifold import TSNE\n",
    "import umap "
   ]
  },
  {
   "cell_type": "code",
   "execution_count": 2,
   "id": "5866df4d",
   "metadata": {
    "scrolled": true
   },
   "outputs": [
    {
     "name": "stdout",
     "output_type": "stream",
     "text": [
      "0 FID   IID            CLUSTER\n",
      "0   1   ACP             Picard\n",
      "1   2   AGO             Picard\n",
      "2   3   AHC             Picard\n",
      "3   4  AM01  West_Grande_Terre\n",
      "4   5  AM07  West_Grande_Terre\n"
     ]
    }
   ],
   "source": [
    "#loading population data\n",
    "population_key= pd.read_csv(\"sample_key.txt\", sep='\\t', header=None)\n",
    "#population_key.set_index()\n",
    "\n",
    "headers = population_key.iloc[0]\n",
    "population_key_new  = pd.DataFrame(population_key.values[1:], columns=headers)\n",
    "print(population_key_new.head(5))\n",
    "\n",
    "#cluster_names=population_key_new.iloc[:,2]\n",
    "\n",
    "#cluster_names=population_key_new['CLUSTER']\n",
    "\n",
    "#cluster_names.columns=['Name']\n",
    "#print(cluster_names.head(5))\n",
    "#print(cluster_names.shape[0])\n",
    "\n"
   ]
  },
  {
   "cell_type": "code",
   "execution_count": 12,
   "id": "988336ca",
   "metadata": {},
   "outputs": [
    {
     "name": "stdout",
     "output_type": "stream",
     "text": [
      "0      1\n",
      "1      2\n",
      "2      3\n",
      "16    17\n",
      "17    18\n",
      "Name: FID, dtype: object\n"
     ]
    }
   ],
   "source": [
    "clusters_to_check=('South_Grande_Terre','West_Grande_Terre','East_Grande_Terre','East_Malabar','West_Malabar')\n",
    "#print(len(clusters_to_check))\n",
    "#print(clusters_to_check[0])\n",
    "\n",
    "Pop1=population_key_new.loc[population_key_new['CLUSTER'] == 'Picard', 'FID']\n",
    "\n",
    "print(SGT.head(5))"
   ]
  },
  {
   "cell_type": "code",
   "execution_count": 50,
   "id": "5e9a3444",
   "metadata": {},
   "outputs": [
    {
     "name": "stdout",
     "output_type": "stream",
     "text": [
      "dict_keys(['East_Grande_Terre', 'East_Malabar', 'West_Malabar', 'SW_Grande_Terre'])\n"
     ]
    }
   ],
   "source": [
    "struct_df=dict() #initiate an empty dictionary\n",
    "struct_np=dict() #initiate an empty dictionary\n",
    "\n",
    "for i in range(0,len(clusters_to_check)):\n",
    "    struct_df[clusters_to_check[i]] = pd.DataFrame(population_key_new.loc[population_key_new['CLUSTER'] == clusters_to_check[i], 'FID'])\n",
    "    struct_np[clusters_to_check[i]] = np.array((population_key_new.loc[population_key_new['CLUSTER'] == clusters_to_check[i], 'FID']))\n",
    "\n",
    "\n",
    "#clusters_idx_SGT\n",
    "#print((struct_np['East_Malabar']))\n",
    "\n",
    "#combine S_GT and W_GT\n",
    "struct_np['SW_Grande_Terre']=[struct_np['South_Grande_Terre'],struct_np['West_Grande_Terre']]\n",
    "struct_np['SW_Grande_Terre']=np.concatenate((struct_np['South_Grande_Terre'],struct_np['West_Grande_Terre']))\n",
    "\n",
    "\n",
    "#print(struct_np['South_Grande_Terre'])\n",
    "#print(struct_np['West_Grande_Terre'])\n",
    "#print(struct_np['SW_Grande_Terre'])\n",
    "\n",
    "#remove South_Grande_Terre and West_Grande_Terre\n",
    "struct_np.pop('South_Grande_Terre')\n",
    "struct_np.pop('West_Grande_Terre')\n",
    "\n",
    "print(struct_np.keys())\n",
    "\n"
   ]
  },
  {
   "cell_type": "code",
   "execution_count": 52,
   "id": "63a92f95",
   "metadata": {},
   "outputs": [
    {
     "name": "stdout",
     "output_type": "stream",
     "text": [
      "6\n"
     ]
    }
   ],
   "source": [
    "from itertools import combinations\n",
    "\n",
    "combs= list(combinations(struct_np.keys(), 2))\n",
    "\n",
    "print(len(combs))\n"
   ]
  },
  {
   "cell_type": "code",
   "execution_count": 59,
   "id": "621b22e7",
   "metadata": {},
   "outputs": [
    {
     "name": "stdout",
     "output_type": "stream",
     "text": [
      "(1, 4)\n",
      "(1, 5)\n",
      "(1, 6)\n",
      "(2, 4)\n",
      "(2, 5)\n",
      "(2, 6)\n",
      "(3, 4)\n",
      "(3, 5)\n",
      "(3, 6)\n"
     ]
    }
   ],
   "source": [
    "for element in itertools.product([1,2,3],[4,5,6]):\n",
    "    print(element)"
   ]
  },
  {
   "cell_type": "code",
   "execution_count": 85,
   "id": "557a7820",
   "metadata": {},
   "outputs": [
    {
     "name": "stdout",
     "output_type": "stream",
     "text": [
      "('136', '46')\n",
      "('136', '47')\n",
      "('136', '48')\n",
      "('136', '49')\n",
      "('136', '50')\n",
      "('136', '51')\n",
      "('136', '53')\n",
      "('136', '54')\n",
      "('136', '55')\n",
      "('136', '56')\n",
      "('136', '57')\n",
      "('136', '58')\n",
      "('136', '59')\n",
      "('136', '60')\n",
      "('136', '61')\n",
      "('136', '62')\n",
      "('136', '4')\n",
      "('136', '5')\n",
      "('136', '6')\n",
      "('136', '7')\n",
      "('136', '10')\n",
      "('136', '11')\n",
      "('136', '12')\n",
      "('136', '13')\n",
      "('136', '14')\n",
      "('136', '15')\n",
      "('136', '16')\n",
      "('136', '128')\n",
      "('136', '129')\n",
      "('136', '130')\n",
      "('136', '133')\n",
      "('137', '46')\n",
      "('137', '47')\n",
      "('137', '48')\n",
      "('137', '49')\n",
      "('137', '50')\n",
      "('137', '51')\n",
      "('137', '53')\n",
      "('137', '54')\n",
      "('137', '55')\n",
      "('137', '56')\n",
      "('137', '57')\n",
      "('137', '58')\n",
      "('137', '59')\n",
      "('137', '60')\n",
      "('137', '61')\n",
      "('137', '62')\n",
      "('137', '4')\n",
      "('137', '5')\n",
      "('137', '6')\n",
      "('137', '7')\n",
      "('137', '10')\n",
      "('137', '11')\n",
      "('137', '12')\n",
      "('137', '13')\n",
      "('137', '14')\n",
      "('137', '15')\n",
      "('137', '16')\n",
      "('137', '128')\n",
      "('137', '129')\n",
      "('137', '130')\n",
      "('137', '133')\n",
      "('138', '46')\n",
      "('138', '47')\n",
      "('138', '48')\n",
      "('138', '49')\n",
      "('138', '50')\n",
      "('138', '51')\n",
      "('138', '53')\n",
      "('138', '54')\n",
      "('138', '55')\n",
      "('138', '56')\n",
      "('138', '57')\n",
      "('138', '58')\n",
      "('138', '59')\n",
      "('138', '60')\n",
      "('138', '61')\n",
      "('138', '62')\n",
      "('138', '4')\n",
      "('138', '5')\n",
      "('138', '6')\n",
      "('138', '7')\n",
      "('138', '10')\n",
      "('138', '11')\n",
      "('138', '12')\n",
      "('138', '13')\n",
      "('138', '14')\n",
      "('138', '15')\n",
      "('138', '16')\n",
      "('138', '128')\n",
      "('138', '129')\n",
      "('138', '130')\n",
      "('138', '133')\n",
      "('139', '46')\n",
      "('139', '47')\n",
      "('139', '48')\n",
      "('139', '49')\n",
      "('139', '50')\n",
      "('139', '51')\n",
      "('139', '53')\n",
      "('139', '54')\n",
      "('139', '55')\n",
      "('139', '56')\n",
      "('139', '57')\n",
      "('139', '58')\n",
      "('139', '59')\n",
      "('139', '60')\n",
      "('139', '61')\n",
      "('139', '62')\n",
      "('139', '4')\n",
      "('139', '5')\n",
      "('139', '6')\n",
      "('139', '7')\n",
      "('139', '10')\n",
      "('139', '11')\n",
      "('139', '12')\n",
      "('139', '13')\n",
      "('139', '14')\n",
      "('139', '15')\n",
      "('139', '16')\n",
      "('139', '128')\n",
      "('139', '129')\n",
      "('139', '130')\n",
      "('139', '133')\n",
      "('140', '46')\n",
      "('140', '47')\n",
      "('140', '48')\n",
      "('140', '49')\n",
      "('140', '50')\n",
      "('140', '51')\n",
      "('140', '53')\n",
      "('140', '54')\n",
      "('140', '55')\n",
      "('140', '56')\n",
      "('140', '57')\n",
      "('140', '58')\n",
      "('140', '59')\n",
      "('140', '60')\n",
      "('140', '61')\n",
      "('140', '62')\n",
      "('140', '4')\n",
      "('140', '5')\n",
      "('140', '6')\n",
      "('140', '7')\n",
      "('140', '10')\n",
      "('140', '11')\n",
      "('140', '12')\n",
      "('140', '13')\n",
      "('140', '14')\n",
      "('140', '15')\n",
      "('140', '16')\n",
      "('140', '128')\n",
      "('140', '129')\n",
      "('140', '130')\n",
      "('140', '133')\n",
      "('141', '46')\n",
      "('141', '47')\n",
      "('141', '48')\n",
      "('141', '49')\n",
      "('141', '50')\n",
      "('141', '51')\n",
      "('141', '53')\n",
      "('141', '54')\n",
      "('141', '55')\n",
      "('141', '56')\n",
      "('141', '57')\n",
      "('141', '58')\n",
      "('141', '59')\n",
      "('141', '60')\n",
      "('141', '61')\n",
      "('141', '62')\n",
      "('141', '4')\n",
      "('141', '5')\n",
      "('141', '6')\n",
      "('141', '7')\n",
      "('141', '10')\n",
      "('141', '11')\n",
      "('141', '12')\n",
      "('141', '13')\n",
      "('141', '14')\n",
      "('141', '15')\n",
      "('141', '16')\n",
      "('141', '128')\n",
      "('141', '129')\n",
      "('141', '130')\n",
      "('141', '133')\n",
      "('142', '46')\n",
      "('142', '47')\n",
      "('142', '48')\n",
      "('142', '49')\n",
      "('142', '50')\n",
      "('142', '51')\n",
      "('142', '53')\n",
      "('142', '54')\n",
      "('142', '55')\n",
      "('142', '56')\n",
      "('142', '57')\n",
      "('142', '58')\n",
      "('142', '59')\n",
      "('142', '60')\n",
      "('142', '61')\n",
      "('142', '62')\n",
      "('142', '4')\n",
      "('142', '5')\n",
      "('142', '6')\n",
      "('142', '7')\n",
      "('142', '10')\n",
      "('142', '11')\n",
      "('142', '12')\n",
      "('142', '13')\n",
      "('142', '14')\n",
      "('142', '15')\n",
      "('142', '16')\n",
      "('142', '128')\n",
      "('142', '129')\n",
      "('142', '130')\n",
      "('142', '133')\n"
     ]
    }
   ],
   "source": [
    "for element in itertools.product(struct_np[combs[5][0]],struct_np[combs[5][1]]):\n",
    "        print(element)"
   ]
  },
  {
   "cell_type": "code",
   "execution_count": 95,
   "id": "d7bd576b",
   "metadata": {},
   "outputs": [
    {
     "name": "stdout",
     "output_type": "stream",
     "text": [
      "[('23', '102'), ('23', '103'), ('23', '104'), ('23', '105'), ('23', '106'), ('23', '107'), ('23', '108'), ('23', '109'), ('23', '110'), ('23', '111'), ('23', '112'), ('23', '113'), ('23', '114'), ('23', '115'), ('23', '116'), ('23', '117'), ('24', '102'), ('24', '103'), ('24', '104'), ('24', '105'), ('24', '106'), ('24', '107'), ('24', '108'), ('24', '109'), ('24', '110'), ('24', '111'), ('24', '112'), ('24', '113'), ('24', '114'), ('24', '115'), ('24', '116'), ('24', '117'), ('25', '102'), ('25', '103'), ('25', '104'), ('25', '105'), ('25', '106'), ('25', '107'), ('25', '108'), ('25', '109'), ('25', '110'), ('25', '111'), ('25', '112'), ('25', '113'), ('25', '114'), ('25', '115'), ('25', '116'), ('25', '117'), ('26', '102'), ('26', '103'), ('26', '104'), ('26', '105'), ('26', '106'), ('26', '107'), ('26', '108'), ('26', '109'), ('26', '110'), ('26', '111'), ('26', '112'), ('26', '113'), ('26', '114'), ('26', '115'), ('26', '116'), ('26', '117'), ('27', '102'), ('27', '103'), ('27', '104'), ('27', '105'), ('27', '106'), ('27', '107'), ('27', '108'), ('27', '109'), ('27', '110'), ('27', '111'), ('27', '112'), ('27', '113'), ('27', '114'), ('27', '115'), ('27', '116'), ('27', '117'), ('28', '102'), ('28', '103'), ('28', '104'), ('28', '105'), ('28', '106'), ('28', '107'), ('28', '108'), ('28', '109'), ('28', '110'), ('28', '111'), ('28', '112'), ('28', '113'), ('28', '114'), ('28', '115'), ('28', '116'), ('28', '117'), ('29', '102'), ('29', '103'), ('29', '104'), ('29', '105'), ('29', '106'), ('29', '107'), ('29', '108'), ('29', '109'), ('29', '110'), ('29', '111'), ('29', '112'), ('29', '113'), ('29', '114'), ('29', '115'), ('29', '116'), ('29', '117'), ('30', '102'), ('30', '103'), ('30', '104'), ('30', '105'), ('30', '106'), ('30', '107'), ('30', '108'), ('30', '109'), ('30', '110'), ('30', '111'), ('30', '112'), ('30', '113'), ('30', '114'), ('30', '115'), ('30', '116'), ('30', '117'), ('31', '102'), ('31', '103'), ('31', '104'), ('31', '105'), ('31', '106'), ('31', '107'), ('31', '108'), ('31', '109'), ('31', '110'), ('31', '111'), ('31', '112'), ('31', '113'), ('31', '114'), ('31', '115'), ('31', '116'), ('31', '117'), ('32', '102'), ('32', '103'), ('32', '104'), ('32', '105'), ('32', '106'), ('32', '107'), ('32', '108'), ('32', '109'), ('32', '110'), ('32', '111'), ('32', '112'), ('32', '113'), ('32', '114'), ('32', '115'), ('32', '116'), ('32', '117'), ('33', '102'), ('33', '103'), ('33', '104'), ('33', '105'), ('33', '106'), ('33', '107'), ('33', '108'), ('33', '109'), ('33', '110'), ('33', '111'), ('33', '112'), ('33', '113'), ('33', '114'), ('33', '115'), ('33', '116'), ('33', '117'), ('34', '102'), ('34', '103'), ('34', '104'), ('34', '105'), ('34', '106'), ('34', '107'), ('34', '108'), ('34', '109'), ('34', '110'), ('34', '111'), ('34', '112'), ('34', '113'), ('34', '114'), ('34', '115'), ('34', '116'), ('34', '117'), ('35', '102'), ('35', '103'), ('35', '104'), ('35', '105'), ('35', '106'), ('35', '107'), ('35', '108'), ('35', '109'), ('35', '110'), ('35', '111'), ('35', '112'), ('35', '113'), ('35', '114'), ('35', '115'), ('35', '116'), ('35', '117'), ('36', '102'), ('36', '103'), ('36', '104'), ('36', '105'), ('36', '106'), ('36', '107'), ('36', '108'), ('36', '109'), ('36', '110'), ('36', '111'), ('36', '112'), ('36', '113'), ('36', '114'), ('36', '115'), ('36', '116'), ('36', '117'), ('37', '102'), ('37', '103'), ('37', '104'), ('37', '105'), ('37', '106'), ('37', '107'), ('37', '108'), ('37', '109'), ('37', '110'), ('37', '111'), ('37', '112'), ('37', '113'), ('37', '114'), ('37', '115'), ('37', '116'), ('37', '117'), ('38', '102'), ('38', '103'), ('38', '104'), ('38', '105'), ('38', '106'), ('38', '107'), ('38', '108'), ('38', '109'), ('38', '110'), ('38', '111'), ('38', '112'), ('38', '113'), ('38', '114'), ('38', '115'), ('38', '116'), ('38', '117'), ('70', '102'), ('70', '103'), ('70', '104'), ('70', '105'), ('70', '106'), ('70', '107'), ('70', '108'), ('70', '109'), ('70', '110'), ('70', '111'), ('70', '112'), ('70', '113'), ('70', '114'), ('70', '115'), ('70', '116'), ('70', '117'), ('71', '102'), ('71', '103'), ('71', '104'), ('71', '105'), ('71', '106'), ('71', '107'), ('71', '108'), ('71', '109'), ('71', '110'), ('71', '111'), ('71', '112'), ('71', '113'), ('71', '114'), ('71', '115'), ('71', '116'), ('71', '117'), ('72', '102'), ('72', '103'), ('72', '104'), ('72', '105'), ('72', '106'), ('72', '107'), ('72', '108'), ('72', '109'), ('72', '110'), ('72', '111'), ('72', '112'), ('72', '113'), ('72', '114'), ('72', '115'), ('72', '116'), ('72', '117'), ('73', '102'), ('73', '103'), ('73', '104'), ('73', '105'), ('73', '106'), ('73', '107'), ('73', '108'), ('73', '109'), ('73', '110'), ('73', '111'), ('73', '112'), ('73', '113'), ('73', '114'), ('73', '115'), ('73', '116'), ('73', '117'), ('74', '102'), ('74', '103'), ('74', '104'), ('74', '105'), ('74', '106'), ('74', '107'), ('74', '108'), ('74', '109'), ('74', '110'), ('74', '111'), ('74', '112'), ('74', '113'), ('74', '114'), ('74', '115'), ('74', '116'), ('74', '117'), ('131', '102'), ('131', '103'), ('131', '104'), ('131', '105'), ('131', '106'), ('131', '107'), ('131', '108'), ('131', '109'), ('131', '110'), ('131', '111'), ('131', '112'), ('131', '113'), ('131', '114'), ('131', '115'), ('131', '116'), ('131', '117'), ('132', '102'), ('132', '103'), ('132', '104'), ('132', '105'), ('132', '106'), ('132', '107'), ('132', '108'), ('132', '109'), ('132', '110'), ('132', '111'), ('132', '112'), ('132', '113'), ('132', '114'), ('132', '115'), ('132', '116'), ('132', '117'), ('134', '102'), ('134', '103'), ('134', '104'), ('134', '105'), ('134', '106'), ('134', '107'), ('134', '108'), ('134', '109'), ('134', '110'), ('134', '111'), ('134', '112'), ('134', '113'), ('134', '114'), ('134', '115'), ('134', '116'), ('134', '117'), ('135', '102'), ('135', '103'), ('135', '104'), ('135', '105'), ('135', '106'), ('135', '107'), ('135', '108'), ('135', '109'), ('135', '110'), ('135', '111'), ('135', '112'), ('135', '113'), ('135', '114'), ('135', '115'), ('135', '116'), ('135', '117')]\n"
     ]
    }
   ],
   "source": [
    "\n",
    "indices_np=dict()\n",
    "values_np=dict()\n",
    "for i in range(0,len(combs)):\n",
    "    values_np[combs[i][0]+'_vs_'+combs[i][1]]=[]\n",
    "    for element in itertools.product(struct_np[combs[i][0]],struct_np[combs[i][1]]):\n",
    "        indices_np[combs[i][0]+'_vs_'+combs[i][1]].append(element)\n",
    "        values_np[combs[i][0]+'_vs_'+combs[i][1]].append(#Burayavalue gelecek#)\n",
    "\n",
    "        \n",
    "        \n",
    "print(indices_np['East_Grande_Terre_vs_East_Malabar'])"
   ]
  },
  {
   "cell_type": "code",
   "execution_count": null,
   "id": "ec600956",
   "metadata": {},
   "outputs": [],
   "source": [
    "relatedness= pd.read_csv(\"deneme_rm1_20_m05.txt\", sep='\\t', header=None)\n",
    "print(relatedness.head(2))\n",
    "print(relatedness.shape)\n",
    "print(143*142)"
   ]
  },
  {
   "cell_type": "code",
   "execution_count": null,
   "id": "35f5ce3c",
   "metadata": {},
   "outputs": [],
   "source": [
    "relatedness_matrix=np.zeros((cluster_names.shape[0],cluster_names.shape[0]))\n",
    "deneme=[]"
   ]
  },
  {
   "cell_type": "code",
   "execution_count": null,
   "id": "24ebd8c7",
   "metadata": {},
   "outputs": [],
   "source": [
    "print(relatedness.iloc[1,14])\n",
    "print(relatedness.iloc[1,0])\n",
    "print(relatedness.iloc[1,1])\n",
    "\n",
    "%print( relatedness_matrix[int(relatedness.iloc[1,0]),int(relatedness.iloc[1,1])])\n"
   ]
  },
  {
   "cell_type": "code",
   "execution_count": null,
   "id": "f54c17ff",
   "metadata": {},
   "outputs": [],
   "source": [
    "\n",
    "relatedness_matrix=np.zeros((cluster_names.shape[0],cluster_names.shape[0])) # generate an empty matrix with zeros\n",
    "\n",
    "#we fill the relatedness matrix with ida vs idb and the value in rab column.\n",
    "for i in range(1,relatedness.shape[0]):\n",
    "    relatedness_matrix[int(relatedness.iloc[i,0]),int(relatedness.iloc[i,1])]=relatedness.iloc[i,14] # 14 stands for rab column\n",
    "    relatedness_matrix[int(relatedness.iloc[i,1]),int(relatedness.iloc[i,0])]=relatedness.iloc[i,14] # 14 stands for rab column\n",
    "\n",
    "\n",
    "    "
   ]
  },
  {
   "cell_type": "code",
   "execution_count": null,
   "id": "a316007d",
   "metadata": {},
   "outputs": [],
   "source": [
    "print(relatedness_matrix[2,4])\n",
    "sns.heatmap(relatedness_matrix)"
   ]
  },
  {
   "cell_type": "code",
   "execution_count": null,
   "id": "80f4134e",
   "metadata": {},
   "outputs": [],
   "source": [
    "cluster_names_list=population_key_new['CLUSTER'].tolist()\n",
    "#cluster_names_list_srt=sorted(cluster_names_list)\n",
    "\n",
    "cluster_names_list_srt_indices=np.argsort(cluster_names_list)\n",
    "\n",
    "\n",
    "print(cluster_names_list_srt_indices[0:5])\n",
    "#print(cluster_names_list_srt[0:5])\n",
    "\n",
    "\n",
    "\n"
   ]
  },
  {
   "cell_type": "code",
   "execution_count": null,
   "id": "82b73b87",
   "metadata": {},
   "outputs": [],
   "source": [
    "#trying to reorder the matrix according to the new key\n",
    "#new_order = [0, 3, 1, 4, 2, 5]    # maps previous index to new index\n",
    "relatedness_matrix_sorted = [[relatedness_matrix[i][j] for j in cluster_names_list_srt_indices] for i in cluster_names_list_srt_indices]"
   ]
  },
  {
   "cell_type": "code",
   "execution_count": null,
   "id": "162c6d20",
   "metadata": {},
   "outputs": [],
   "source": [
    "sns.heatmap(relatedness_matrix_sorted)"
   ]
  },
  {
   "cell_type": "code",
   "execution_count": null,
   "id": "725ac32a",
   "metadata": {},
   "outputs": [],
   "source": []
  }
 ],
 "metadata": {
  "kernelspec": {
   "display_name": "aldabra",
   "language": "python",
   "name": "aldabra"
  },
  "language_info": {
   "codemirror_mode": {
    "name": "ipython",
    "version": 3
   },
   "file_extension": ".py",
   "mimetype": "text/x-python",
   "name": "python",
   "nbconvert_exporter": "python",
   "pygments_lexer": "ipython3",
   "version": "3.10.9"
  }
 },
 "nbformat": 4,
 "nbformat_minor": 5
}
