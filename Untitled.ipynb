{
 "cells": [
  {
   "cell_type": "code",
   "execution_count": 1,
   "id": "d438bc20",
   "metadata": {},
   "outputs": [],
   "source": [
    "# Import libraries. \n",
    "# Generate images in the notebook\n",
    "%matplotlib inline\n",
    "\n",
    "import matplotlib.pyplot as plt\n",
    "import collections\n",
    "from collections import defaultdict\n",
    "import gzip\n",
    "import itertools\n",
    "import numpy as np\n",
    "import os\n",
    "import time\n",
    "import pandas as pd\n",
    "import seaborn as sns\n",
    "\n",
    "import bokeh\n",
    "import bokeh.io\n",
    "from bokeh.io import push_notebook\n",
    "from bokeh.plotting import figure, show, save, output_notebook, output_file\n",
    "\n",
    "# Import colour palettes for later on\n",
    "from bokeh.palettes import Category20b\n",
    "from bokeh.palettes import Purples\n",
    "from bokeh.palettes import Greens\n",
    "from bokeh.palettes import YlOrBr\n",
    "from bokeh.palettes import YlOrRd\n",
    "from bokeh.palettes import PuOr\n",
    "from bokeh.palettes import RdGy\n",
    "\n",
    "# Dimension reduction tools\n",
    "from sklearn.decomposition import PCA as PCA\n",
    "from sklearn.manifold import TSNE\n",
    "import umap "
   ]
  },
  {
   "cell_type": "code",
   "execution_count": 2,
   "id": "5866df4d",
   "metadata": {
    "scrolled": true
   },
   "outputs": [
    {
     "name": "stdout",
     "output_type": "stream",
     "text": [
      "0 FID   IID            CLUSTER\n",
      "0   1   ACP             Picard\n",
      "1   2   AGO             Picard\n",
      "2   3   AHC             Picard\n",
      "3   4  AM01  West_Grande_Terre\n",
      "4   5  AM07  West_Grande_Terre\n"
     ]
    }
   ],
   "source": [
    "#loading population data\n",
    "population_key= pd.read_csv(\"sample_key.txt\", sep='\\t', header=None)\n",
    "#population_key.set_index()\n",
    "\n",
    "headers = population_key.iloc[0]\n",
    "population_key_new  = pd.DataFrame(population_key.values[1:], columns=headers)\n",
    "print(population_key_new.head(5))\n",
    "\n",
    "#cluster_names=population_key_new.iloc[:,2]\n",
    "\n",
    "#cluster_names=population_key_new['CLUSTER']\n",
    "\n",
    "#cluster_names.columns=['Name']\n",
    "#print(cluster_names.head(5))\n",
    "#print(cluster_names.shape[0])\n",
    "\n"
   ]
  },
  {
   "cell_type": "code",
   "execution_count": 4,
   "id": "988336ca",
   "metadata": {},
   "outputs": [],
   "source": [
    "clusters_to_check=('South_Grande_Terre','West_Grande_Terre','East_Grande_Terre','East_Malabar','West_Malabar')\n",
    "#print(len(clusters_to_check))\n",
    "#print(clusters_to_check[0])\n",
    "\n",
    "Pop1=population_key_new.loc[population_key_new['CLUSTER'] == 'Picard', 'FID']\n",
    "\n"
   ]
  },
  {
   "cell_type": "code",
   "execution_count": 5,
   "id": "5e9a3444",
   "metadata": {},
   "outputs": [
    {
     "name": "stdout",
     "output_type": "stream",
     "text": [
      "dict_keys(['East_Grande_Terre', 'East_Malabar', 'West_Malabar', 'SW_Grande_Terre'])\n"
     ]
    }
   ],
   "source": [
    "struct_df=dict() #initiate an empty dictionary\n",
    "struct_np=dict() #initiate an empty dictionary\n",
    "\n",
    "for i in range(0,len(clusters_to_check)):\n",
    "    struct_df[clusters_to_check[i]] = pd.DataFrame(population_key_new.loc[population_key_new['CLUSTER'] == clusters_to_check[i], 'FID'])\n",
    "    struct_np[clusters_to_check[i]] = np.array((population_key_new.loc[population_key_new['CLUSTER'] == clusters_to_check[i], 'FID']))\n",
    "\n",
    "\n",
    "#clusters_idx_SGT\n",
    "#print((struct_np['East_Malabar']))\n",
    "\n",
    "#combine S_GT and W_GT\n",
    "struct_np['SW_Grande_Terre']=[struct_np['South_Grande_Terre'],struct_np['West_Grande_Terre']]\n",
    "struct_np['SW_Grande_Terre']=np.concatenate((struct_np['South_Grande_Terre'],struct_np['West_Grande_Terre']))\n",
    "\n",
    "\n",
    "#print(struct_np['South_Grande_Terre'])\n",
    "#print(struct_np['West_Grande_Terre'])\n",
    "#print(struct_np['SW_Grande_Terre'])\n",
    "\n",
    "#remove South_Grande_Terre and West_Grande_Terre\n",
    "struct_np.pop('South_Grande_Terre')\n",
    "struct_np.pop('West_Grande_Terre')\n",
    "\n",
    "print(struct_np.keys())\n",
    "\n"
   ]
  },
  {
   "cell_type": "code",
   "execution_count": 6,
   "id": "63a92f95",
   "metadata": {},
   "outputs": [
    {
     "name": "stdout",
     "output_type": "stream",
     "text": [
      "6\n"
     ]
    }
   ],
   "source": [
    "from itertools import combinations\n",
    "\n",
    "combs= list(combinations(struct_np.keys(), 2))\n",
    "\n",
    "print(len(combs))\n"
   ]
  },
  {
   "cell_type": "code",
   "execution_count": 8,
   "id": "621b22e7",
   "metadata": {},
   "outputs": [],
   "source": [
    "#deneme modulu\n",
    "#for element in itertools.product([1,2,3],[4,5,6]):\n",
    "#    print(element)"
   ]
  },
  {
   "cell_type": "code",
   "execution_count": 64,
   "id": "557a7820",
   "metadata": {},
   "outputs": [
    {
     "name": "stdout",
     "output_type": "stream",
     "text": [
      "('136', '46')\n",
      "('136', '47')\n",
      "('136', '48')\n",
      "('136', '49')\n",
      "('136', '50')\n",
      "('136', '51')\n",
      "('136', '53')\n",
      "('136', '54')\n",
      "('136', '55')\n",
      "('136', '56')\n",
      "('136', '57')\n",
      "('136', '58')\n",
      "('136', '59')\n",
      "('136', '60')\n",
      "('136', '61')\n",
      "('136', '62')\n",
      "('136', '4')\n",
      "('136', '5')\n",
      "('136', '6')\n",
      "('136', '7')\n",
      "('136', '10')\n",
      "('136', '11')\n",
      "('136', '12')\n",
      "('136', '13')\n",
      "('136', '14')\n",
      "('136', '15')\n",
      "('136', '16')\n",
      "('136', '128')\n",
      "('136', '129')\n",
      "('136', '130')\n",
      "('136', '133')\n",
      "('137', '46')\n",
      "('137', '47')\n",
      "('137', '48')\n",
      "('137', '49')\n",
      "('137', '50')\n",
      "('137', '51')\n",
      "('137', '53')\n",
      "('137', '54')\n",
      "('137', '55')\n",
      "('137', '56')\n",
      "('137', '57')\n",
      "('137', '58')\n",
      "('137', '59')\n",
      "('137', '60')\n",
      "('137', '61')\n",
      "('137', '62')\n",
      "('137', '4')\n",
      "('137', '5')\n",
      "('137', '6')\n",
      "('137', '7')\n",
      "('137', '10')\n",
      "('137', '11')\n",
      "('137', '12')\n",
      "('137', '13')\n",
      "('137', '14')\n",
      "('137', '15')\n",
      "('137', '16')\n",
      "('137', '128')\n",
      "('137', '129')\n",
      "('137', '130')\n",
      "('137', '133')\n",
      "('138', '46')\n",
      "('138', '47')\n",
      "('138', '48')\n",
      "('138', '49')\n",
      "('138', '50')\n",
      "('138', '51')\n",
      "('138', '53')\n",
      "('138', '54')\n",
      "('138', '55')\n",
      "('138', '56')\n",
      "('138', '57')\n",
      "('138', '58')\n",
      "('138', '59')\n",
      "('138', '60')\n",
      "('138', '61')\n",
      "('138', '62')\n",
      "('138', '4')\n",
      "('138', '5')\n",
      "('138', '6')\n",
      "('138', '7')\n",
      "('138', '10')\n",
      "('138', '11')\n",
      "('138', '12')\n",
      "('138', '13')\n",
      "('138', '14')\n",
      "('138', '15')\n",
      "('138', '16')\n",
      "('138', '128')\n",
      "('138', '129')\n",
      "('138', '130')\n",
      "('138', '133')\n",
      "('139', '46')\n",
      "('139', '47')\n",
      "('139', '48')\n",
      "('139', '49')\n",
      "('139', '50')\n",
      "('139', '51')\n",
      "('139', '53')\n",
      "('139', '54')\n",
      "('139', '55')\n",
      "('139', '56')\n",
      "('139', '57')\n",
      "('139', '58')\n",
      "('139', '59')\n",
      "('139', '60')\n",
      "('139', '61')\n",
      "('139', '62')\n",
      "('139', '4')\n",
      "('139', '5')\n",
      "('139', '6')\n",
      "('139', '7')\n",
      "('139', '10')\n",
      "('139', '11')\n",
      "('139', '12')\n",
      "('139', '13')\n",
      "('139', '14')\n",
      "('139', '15')\n",
      "('139', '16')\n",
      "('139', '128')\n",
      "('139', '129')\n",
      "('139', '130')\n",
      "('139', '133')\n",
      "('140', '46')\n",
      "('140', '47')\n",
      "('140', '48')\n",
      "('140', '49')\n",
      "('140', '50')\n",
      "('140', '51')\n",
      "('140', '53')\n",
      "('140', '54')\n",
      "('140', '55')\n",
      "('140', '56')\n",
      "('140', '57')\n",
      "('140', '58')\n",
      "('140', '59')\n",
      "('140', '60')\n",
      "('140', '61')\n",
      "('140', '62')\n",
      "('140', '4')\n",
      "('140', '5')\n",
      "('140', '6')\n",
      "('140', '7')\n",
      "('140', '10')\n",
      "('140', '11')\n",
      "('140', '12')\n",
      "('140', '13')\n",
      "('140', '14')\n",
      "('140', '15')\n",
      "('140', '16')\n",
      "('140', '128')\n",
      "('140', '129')\n",
      "('140', '130')\n",
      "('140', '133')\n",
      "('141', '46')\n",
      "('141', '47')\n",
      "('141', '48')\n",
      "('141', '49')\n",
      "('141', '50')\n",
      "('141', '51')\n",
      "('141', '53')\n",
      "('141', '54')\n",
      "('141', '55')\n",
      "('141', '56')\n",
      "('141', '57')\n",
      "('141', '58')\n",
      "('141', '59')\n",
      "('141', '60')\n",
      "('141', '61')\n",
      "('141', '62')\n",
      "('141', '4')\n",
      "('141', '5')\n",
      "('141', '6')\n",
      "('141', '7')\n",
      "('141', '10')\n",
      "('141', '11')\n",
      "('141', '12')\n",
      "('141', '13')\n",
      "('141', '14')\n",
      "('141', '15')\n",
      "('141', '16')\n",
      "('141', '128')\n",
      "('141', '129')\n",
      "('141', '130')\n",
      "('141', '133')\n",
      "('142', '46')\n",
      "('142', '47')\n",
      "('142', '48')\n",
      "('142', '49')\n",
      "('142', '50')\n",
      "('142', '51')\n",
      "('142', '53')\n",
      "('142', '54')\n",
      "('142', '55')\n",
      "('142', '56')\n",
      "('142', '57')\n",
      "('142', '58')\n",
      "('142', '59')\n",
      "('142', '60')\n",
      "('142', '61')\n",
      "('142', '62')\n",
      "('142', '4')\n",
      "('142', '5')\n",
      "('142', '6')\n",
      "('142', '7')\n",
      "('142', '10')\n",
      "('142', '11')\n",
      "('142', '12')\n",
      "('142', '13')\n",
      "('142', '14')\n",
      "('142', '15')\n",
      "('142', '16')\n",
      "('142', '128')\n",
      "('142', '129')\n",
      "('142', '130')\n",
      "('142', '133')\n"
     ]
    }
   ],
   "source": [
    "#deneme modulu 2\n",
    "for element in itertools.product(struct_np[combs[5][0]],struct_np[combs[5][1]]):\n",
    "       print(element)"
   ]
  },
  {
   "cell_type": "code",
   "execution_count": 16,
   "id": "ab9886aa",
   "metadata": {},
   "outputs": [
    {
     "name": "stdout",
     "output_type": "stream",
     "text": [
      "   a  b  ida  idb   nSites        J9        J8        J7        J6        J5  \\\n",
      "0  1  2  ACP  AGO  4398322  0.449125  0.281608  0.057019  0.055365  0.013619   \n",
      "1  1  3  ACP  AHC  4329358  0.422116  0.324969  0.023196  0.024080  0.062928   \n",
      "\n",
      "   ...         loglh  nIter  bestoptimll  coverage  \\\n",
      "0  ... -5.831279e+06    178         -1.0  0.593536   \n",
      "1  ... -5.641914e+06    178         -1.0  0.584229   \n",
      "\n",
      "                                               2dsfs        R0        R1  \\\n",
      "0  4.297776e-01,1.356807e-01,2.965957e-02,1.29289...  0.507865  0.308364   \n",
      "1  4.353710e-01,1.364934e-01,2.287467e-02,1.34146...  0.461462  0.286587   \n",
      "\n",
      "       KING  2dsfs_loglike  2dsfsf_niter  \n",
      "0 -0.003322  -6.275533e+06            30  \n",
      "1  0.015330  -6.076937e+06            30  \n",
      "\n",
      "[2 rows x 35 columns]\n"
     ]
    }
   ],
   "source": [
    "relatedness= pd.read_csv(\"deneme_rm1_20_m05.txt\", sep='\\t') # load relatedness data\n",
    "relatedness['a']=relatedness['a']+1 # correct the IDs so that they will match the ones in the dictionaries as combinations\n",
    "relatedness['b']=relatedness['b']+1 # same as above, this time for the b column.\n",
    "print(relatedness.head(2))"
   ]
  },
  {
   "cell_type": "code",
   "execution_count": 54,
   "id": "bbe122e0",
   "metadata": {},
   "outputs": [
    {
     "name": "stdout",
     "output_type": "stream",
     "text": [
      "[25]\n"
     ]
    }
   ],
   "source": [
    "#print(([1,0] == [0,1]))\n",
    "\n",
    "deneme=np.array(relatedness.iloc[:,0:2])\n",
    "#print(deneme)\n",
    "\n",
    "input=[1,27]\n",
    "\n",
    "#indis=np.where(deneme[:,0] == input[0] & deneme[:,1] == input[1])\n",
    "\n",
    "indis=np.where((deneme[:,0] == input[0]) & (deneme[:,1] == input[1]))\n",
    "\n",
    "print(indis[0])"
   ]
  },
  {
   "cell_type": "code",
   "execution_count": 63,
   "id": "069e4ddd",
   "metadata": {},
   "outputs": [],
   "source": [
    "pair_ids=np.array(relatedness.iloc[:,0:2])\n",
    "\n",
    "indices_np=dict()\n",
    "values_np=dict()\n",
    "i=5 \n",
    "\n",
    "indices_np[combs[i][0]+'_vs_'+combs[i][1]]=[]\n",
    "values_np[combs[i][0]+'_vs_'+combs[i][1]]=[]\n",
    "\n",
    "\n"
   ]
  },
  {
   "cell_type": "code",
   "execution_count": 79,
   "id": "b42960a7",
   "metadata": {},
   "outputs": [
    {
     "name": "stdout",
     "output_type": "stream",
     "text": [
      "[4]\n",
      "4    0.007294\n",
      "Name: rab, dtype: float64\n"
     ]
    }
   ],
   "source": []
  },
  {
   "cell_type": "code",
   "execution_count": 106,
   "id": "ed297431",
   "metadata": {},
   "outputs": [
    {
     "name": "stdout",
     "output_type": "stream",
     "text": [
      "[1, 5]\n",
      "(array([3]),)\n",
      "(array([], dtype=int64),)\n",
      "[5, 1]\n"
     ]
    }
   ],
   "source": [
    "element=[5,1]\n",
    "element_srt=sorted(element)\n",
    "print(element_srt)\n",
    "print(np.where((pair_ids[:,0] == element_srt[0]) & (pair_ids[:,1] == element_srt[1])))\n",
    "\n",
    "temp_idx=np.where((pair_ids[:,0] == element[0]) & (pair_ids[:,1] == element[1]))\n",
    "\n",
    "print(temp_idx)\n",
    "print(element)\n"
   ]
  },
  {
   "cell_type": "code",
   "execution_count": 127,
   "id": "144a1d8b",
   "metadata": {},
   "outputs": [],
   "source": [
    "element=[23,102]\n",
    "if element[0] > element[1]:\n",
    "    print('a')"
   ]
  },
  {
   "cell_type": "code",
   "execution_count": 137,
   "id": "d7bd576b",
   "metadata": {},
   "outputs": [
    {
     "name": "stdout",
     "output_type": "stream",
     "text": [
      "('23', '102')\n",
      "2971    0.030861\n",
      "Name: rab, dtype: float64\n"
     ]
    }
   ],
   "source": [
    "pair_ids=np.array(relatedness.iloc[:,0:2])\n",
    "\n",
    "indices_np=dict()\n",
    "values_np=dict()\n",
    "for i in range(0,len(combs)):\n",
    "    indices_np[combs[i][0]+'_vs_'+combs[i][1]]=[]\n",
    "    values_np[combs[i][0]+'_vs_'+combs[i][1]]=[]\n",
    "    for element in itertools.product(struct_np[combs[i][0]],struct_np[combs[i][1]]):\n",
    "\n",
    "\n",
    "        if int(element[0]) > int(element[1]):\n",
    "           # print('degistirelim:')\n",
    "            element_srt=sorted(element)\n",
    "        else:\n",
    "          #  print('bununla devam:')\n",
    "            element_srt=element\n",
    "            \n",
    "        #print(element)\n",
    "        indices_np[combs[i][0]+'_vs_'+combs[i][1]].append(element_srt) # element is the pair of IDa vs IDb such as 1x143\n",
    "        \n",
    "        temp_idx=np.where((pair_ids[:,0] == int(element_srt[0])) & (pair_ids[:,1] == int(element_srt[1])))        \n",
    "        values_np[combs[i][0]+'_vs_'+combs[i][1]].append(relatedness.iloc[temp_idx[0],14]) # 14 is to take out rab data\n",
    "        del temp_idx\n",
    "                \n",
    "print(indices_np['East_Grande_Terre_vs_East_Malabar'][0])\n",
    "print(values_np['East_Grande_Terre_vs_East_Malabar'][0])\n",
    "\n",
    "\n",
    "# calisiyo ama su 2971'i cozemedim. sonra bakariz.\n",
    "\n"
   ]
  },
  {
   "cell_type": "code",
   "execution_count": null,
   "id": "1f1a1fa2",
   "metadata": {},
   "outputs": [],
   "source": []
  },
  {
   "cell_type": "code",
   "execution_count": null,
   "id": "ec600956",
   "metadata": {},
   "outputs": [],
   "source": [
    "relatedness= pd.read_csv(\"deneme_rm1_20_m05.txt\", sep='\\t', header=None)\n",
    "print(relatedness.head(2))\n",
    "print(relatedness.shape)\n"
   ]
  },
  {
   "cell_type": "code",
   "execution_count": null,
   "id": "35f5ce3c",
   "metadata": {},
   "outputs": [],
   "source": [
    "relatedness_matrix=np.zeros((cluster_names.shape[0],cluster_names.shape[0]))\n",
    "deneme=[]"
   ]
  },
  {
   "cell_type": "code",
   "execution_count": null,
   "id": "24ebd8c7",
   "metadata": {},
   "outputs": [],
   "source": [
    "print(relatedness.iloc[1,14])\n",
    "print(relatedness.iloc[1,0])\n",
    "print(relatedness.iloc[1,1])\n",
    "\n",
    "%print( relatedness_matrix[int(relatedness.iloc[1,0]),int(relatedness.iloc[1,1])])\n"
   ]
  },
  {
   "cell_type": "code",
   "execution_count": null,
   "id": "f54c17ff",
   "metadata": {},
   "outputs": [],
   "source": [
    "\n",
    "relatedness_matrix=np.zeros((cluster_names.shape[0],cluster_names.shape[0])) # generate an empty matrix with zeros\n",
    "\n",
    "#we fill the relatedness matrix with ida vs idb and the value in rab column.\n",
    "for i in range(1,relatedness.shape[0]):\n",
    "    relatedness_matrix[int(relatedness.iloc[i,0]),int(relatedness.iloc[i,1])]=relatedness.iloc[i,14] # 14 stands for rab column\n",
    "    relatedness_matrix[int(relatedness.iloc[i,1]),int(relatedness.iloc[i,0])]=relatedness.iloc[i,14] # 14 stands for rab column\n",
    "\n",
    "\n",
    "    "
   ]
  },
  {
   "cell_type": "code",
   "execution_count": null,
   "id": "a316007d",
   "metadata": {},
   "outputs": [],
   "source": [
    "print(relatedness_matrix[2,4])\n",
    "sns.heatmap(relatedness_matrix)"
   ]
  },
  {
   "cell_type": "code",
   "execution_count": null,
   "id": "80f4134e",
   "metadata": {},
   "outputs": [],
   "source": [
    "cluster_names_list=population_key_new['CLUSTER'].tolist()\n",
    "#cluster_names_list_srt=sorted(cluster_names_list)\n",
    "\n",
    "cluster_names_list_srt_indices=np.argsort(cluster_names_list)\n",
    "\n",
    "\n",
    "print(cluster_names_list_srt_indices[0:5])\n",
    "#print(cluster_names_list_srt[0:5])\n",
    "\n",
    "\n",
    "\n"
   ]
  },
  {
   "cell_type": "code",
   "execution_count": null,
   "id": "82b73b87",
   "metadata": {},
   "outputs": [],
   "source": [
    "#trying to reorder the matrix according to the new key\n",
    "#new_order = [0, 3, 1, 4, 2, 5]    # maps previous index to new index\n",
    "relatedness_matrix_sorted = [[relatedness_matrix[i][j] for j in cluster_names_list_srt_indices] for i in cluster_names_list_srt_indices]"
   ]
  },
  {
   "cell_type": "code",
   "execution_count": null,
   "id": "162c6d20",
   "metadata": {},
   "outputs": [],
   "source": [
    "sns.heatmap(relatedness_matrix_sorted)"
   ]
  },
  {
   "cell_type": "code",
   "execution_count": null,
   "id": "725ac32a",
   "metadata": {},
   "outputs": [],
   "source": []
  }
 ],
 "metadata": {
  "kernelspec": {
   "display_name": "aldabra",
   "language": "python",
   "name": "aldabra"
  },
  "language_info": {
   "codemirror_mode": {
    "name": "ipython",
    "version": 3
   },
   "file_extension": ".py",
   "mimetype": "text/x-python",
   "name": "python",
   "nbconvert_exporter": "python",
   "pygments_lexer": "ipython3",
   "version": "3.10.9"
  }
 },
 "nbformat": 4,
 "nbformat_minor": 5
}
