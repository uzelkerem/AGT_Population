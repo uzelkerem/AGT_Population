{
 "cells": [
  {
   "cell_type": "code",
   "execution_count": 1,
   "id": "d438bc20",
   "metadata": {},
   "outputs": [],
   "source": [
    "# Import libraries. \n",
    "# Generate images in the notebook\n",
    "%matplotlib inline\n",
    "\n",
    "import matplotlib.pyplot as plt\n",
    "import collections\n",
    "from collections import defaultdict\n",
    "import gzip\n",
    "import itertools\n",
    "import numpy as np\n",
    "import os\n",
    "import time\n",
    "import pandas as pd\n",
    "import seaborn as sns\n",
    "\n",
    "import bokeh\n",
    "import bokeh.io\n",
    "from bokeh.io import push_notebook\n",
    "from bokeh.plotting import figure, show, save, output_notebook, output_file\n",
    "\n",
    "# Import colour palettes for later on\n",
    "from bokeh.palettes import Category20b\n",
    "from bokeh.palettes import Purples\n",
    "from bokeh.palettes import Greens\n",
    "from bokeh.palettes import YlOrBr\n",
    "from bokeh.palettes import YlOrRd\n",
    "from bokeh.palettes import PuOr\n",
    "from bokeh.palettes import RdGy\n",
    "\n",
    "# Dimension reduction tools\n",
    "from sklearn.decomposition import PCA as PCA\n",
    "from sklearn.manifold import TSNE\n",
    "import umap "
   ]
  },
  {
   "cell_type": "code",
   "execution_count": 2,
   "id": "5866df4d",
   "metadata": {
    "scrolled": true
   },
   "outputs": [
    {
     "name": "stdout",
     "output_type": "stream",
     "text": [
      "0 FID   IID            CLUSTER\n",
      "0   1   ACP             Picard\n",
      "1   2   AGO             Picard\n",
      "2   3   AHC             Picard\n",
      "3   4  AM01  West_Grande_Terre\n",
      "4   5  AM07  West_Grande_Terre\n",
      "0 FID   IID          CLUSTER\n",
      "0   1   ACP           Picard\n",
      "1   2   AGO           Picard\n",
      "2   3   AHC           Picard\n",
      "3   4  AM01  SW_Grande_Terre\n",
      "4   5  AM07  SW_Grande_Terre\n"
     ]
    }
   ],
   "source": [
    "#loading population data\n",
    "population_key= pd.read_csv(\"sample_key.txt\", sep='\\t', header=None)\n",
    "#population_key.set_index()\n",
    "\n",
    "#changing the first row to headers\n",
    "headers = population_key.iloc[0]\n",
    "population_key_new  = pd.DataFrame(population_key.values[1:], columns=headers) \n",
    "print(population_key_new.head(5))\n",
    "\n",
    "# Regroup S GT and W GT together as SW GT\n",
    "population_key_new2=population_key_new\n",
    "population_key_new2.loc[population_key_new2['CLUSTER'] == 'West_Grande_Terre', 'CLUSTER'] = 'SW_Grande_Terre'\n",
    "population_key_new2.loc[population_key_new2['CLUSTER'] == 'South_Grande_Terre', 'CLUSTER'] = 'SW_Grande_Terre'\n",
    "print(population_key_new2.head(5))\n",
    "\n"
   ]
  },
  {
   "cell_type": "code",
   "execution_count": 3,
   "id": "988336ca",
   "metadata": {},
   "outputs": [],
   "source": [
    "clusters_to_check=('SW_Grande_Terre','East_Grande_Terre','East_Malabar','West_Malabar')\n",
    "#print(len(clusters_to_check))\n",
    "#print(clusters_to_check[0])\n",
    "\n",
    "#deneme\n",
    "#Pop1=population_key_new.loc[population_key_new['CLUSTER'] == 'Picard', 'FID']\n",
    "\n",
    "#print(Pop1)"
   ]
  },
  {
   "cell_type": "code",
   "execution_count": 4,
   "id": "5e9a3444",
   "metadata": {},
   "outputs": [
    {
     "name": "stdout",
     "output_type": "stream",
     "text": [
      "dict_keys(['SW_Grande_Terre', 'East_Grande_Terre', 'East_Malabar', 'West_Malabar'])\n",
      "{'SW_Grande_Terre': array(['4', '5', '6', '7', '10', '11', '12', '13', '14', '15', '16', '46',\n",
      "       '47', '48', '49', '50', '51', '53', '54', '55', '56', '57', '58',\n",
      "       '59', '60', '61', '62', '128', '129', '130', '133'], dtype=object), 'East_Grande_Terre': array(['23', '24', '25', '26', '27', '28', '29', '30', '31', '32', '33',\n",
      "       '34', '35', '36', '37', '38', '70', '71', '72', '73', '74', '131',\n",
      "       '132', '134', '135'], dtype=object), 'East_Malabar': array(['102', '103', '104', '105', '106', '107', '108', '109', '110',\n",
      "       '111', '112', '113', '114', '115', '116', '117'], dtype=object), 'West_Malabar': array(['136', '137', '138', '139', '140', '141', '142'], dtype=object)}\n"
     ]
    }
   ],
   "source": [
    "#generate dictionaries that contains clusters to check and IDs in it\n",
    "#df is the dataframe version and np is numpy array, will continue with np\n",
    "\n",
    "struct_df=dict() #initiate an empty dictionary\n",
    "struct_np=dict() #initiate an empty dictionary\n",
    "\n",
    "for i in range(0,len(clusters_to_check)):\n",
    "    struct_df[clusters_to_check[i]] = pd.DataFrame(population_key_new2.loc[population_key_new['CLUSTER'] == clusters_to_check[i], 'FID'])\n",
    "    struct_np[clusters_to_check[i]] = np.array((population_key_new2.loc[population_key_new['CLUSTER'] == clusters_to_check[i], 'FID']))\n",
    "\n",
    "\n",
    "#print(struct_np['South_Grande_Terre'])\n",
    "print(struct_np.keys())\n",
    "print(struct_np)"
   ]
  },
  {
   "cell_type": "code",
   "execution_count": 5,
   "id": "63a92f95",
   "metadata": {},
   "outputs": [
    {
     "name": "stdout",
     "output_type": "stream",
     "text": [
      "6\n",
      "[('SW_Grande_Terre', 'East_Grande_Terre'), ('SW_Grande_Terre', 'East_Malabar'), ('SW_Grande_Terre', 'West_Malabar'), ('East_Grande_Terre', 'East_Malabar'), ('East_Grande_Terre', 'West_Malabar'), ('East_Malabar', 'West_Malabar')]\n"
     ]
    }
   ],
   "source": [
    "#generating combinations of the clusters to check so that the histograms etc. will be as Cluster1 vs Cluster2\n",
    "from itertools import combinations\n",
    "\n",
    "combs= list(combinations(struct_np.keys(), 2))\n",
    "\n",
    "print(len(combs))\n",
    "print(combs)"
   ]
  },
  {
   "cell_type": "code",
   "execution_count": null,
   "id": "621b22e7",
   "metadata": {},
   "outputs": [],
   "source": [
    "#deneme modulu\n",
    "#for element in itertools.product([1,2,3],[4,5,6]):\n",
    "#    print(element)"
   ]
  },
  {
   "cell_type": "code",
   "execution_count": null,
   "id": "557a7820",
   "metadata": {},
   "outputs": [],
   "source": [
    "#deneme modulu 2\n",
    "#for element in itertools.product(struct_np[combs[5][0]],struct_np[combs[5][1]]):\n",
    "#       print(element)"
   ]
  },
  {
   "cell_type": "code",
   "execution_count": 6,
   "id": "ab9886aa",
   "metadata": {},
   "outputs": [
    {
     "name": "stdout",
     "output_type": "stream",
     "text": [
      "   a  b  ida  idb   nSites        J9        J8        J7        J6        J5  \\\n",
      "0  1  2  ACP  AGO  4398322  0.449125  0.281608  0.057019  0.055365  0.013619   \n",
      "1  1  3  ACP  AHC  4329358  0.422116  0.324969  0.023196  0.024080  0.062928   \n",
      "\n",
      "   ...         loglh  nIter  bestoptimll  coverage  \\\n",
      "0  ... -5.831279e+06    178         -1.0  0.593536   \n",
      "1  ... -5.641914e+06    178         -1.0  0.584229   \n",
      "\n",
      "                                               2dsfs        R0        R1  \\\n",
      "0  4.297776e-01,1.356807e-01,2.965957e-02,1.29289...  0.507865  0.308364   \n",
      "1  4.353710e-01,1.364934e-01,2.287467e-02,1.34146...  0.461462  0.286587   \n",
      "\n",
      "       KING  2dsfs_loglike  2dsfsf_niter  \n",
      "0 -0.003322  -6.275533e+06            30  \n",
      "1  0.015330  -6.076937e+06            30  \n",
      "\n",
      "[2 rows x 35 columns]\n"
     ]
    }
   ],
   "source": [
    "#loading relatedness data and correcting the idx so that there wont be 0 and it will match the individual samples' id\n",
    "relatedness= pd.read_csv(\"deneme_rm1_20_m05.txt\", sep='\\t') # load relatedness data\n",
    "relatedness['a']=relatedness['a']+1 # correct the IDs so that they will match the ones in the dictionaries as combinations\n",
    "relatedness['b']=relatedness['b']+1 # same as above, this time for the b column.\n",
    "print(relatedness.head(2))"
   ]
  },
  {
   "cell_type": "code",
   "execution_count": null,
   "id": "bbe122e0",
   "metadata": {},
   "outputs": [],
   "source": [
    "#print(([1,0] == [0,1]))\n",
    "\n",
    "deneme=np.array(relatedness.iloc[:,0:2])\n",
    "#print(deneme)\n",
    "\n",
    "input=[1,27]\n",
    "\n",
    "#indis=np.where(deneme[:,0] == input[0] & deneme[:,1] == input[1])\n",
    "\n",
    "indis=np.where((deneme[:,0] == input[0]) & (deneme[:,1] == input[1]))\n",
    "\n",
    "print(indis[0])"
   ]
  },
  {
   "cell_type": "code",
   "execution_count": null,
   "id": "069e4ddd",
   "metadata": {},
   "outputs": [],
   "source": [
    "pair_ids=np.array(relatedness.iloc[:,0:2])\n",
    "\n",
    "indices_np=dict()\n",
    "values_np=dict()\n",
    "i=5 \n",
    "\n",
    "indices_np[combs[i][0]+'_vs_'+combs[i][1]]=[]\n",
    "values_np[combs[i][0]+'_vs_'+combs[i][1]]=[]\n",
    "\n",
    "\n"
   ]
  },
  {
   "cell_type": "code",
   "execution_count": null,
   "id": "ed297431",
   "metadata": {},
   "outputs": [],
   "source": [
    "element=[5,1]\n",
    "element_srt=sorted(element)\n",
    "print(element_srt)\n",
    "print(np.where((pair_ids[:,0] == element_srt[0]) & (pair_ids[:,1] == element_srt[1])))\n",
    "\n",
    "temp_idx=np.where((pair_ids[:,0] == element[0]) & (pair_ids[:,1] == element[1]))\n",
    "\n",
    "print(temp_idx)\n",
    "print(element)\n"
   ]
  },
  {
   "cell_type": "code",
   "execution_count": null,
   "id": "144a1d8b",
   "metadata": {},
   "outputs": [],
   "source": [
    "element=[23,102]\n",
    "if element[0] > element[1]:\n",
    "    print('a')"
   ]
  },
  {
   "cell_type": "code",
   "execution_count": 153,
   "id": "d7bd576b",
   "metadata": {},
   "outputs": [
    {
     "name": "stderr",
     "output_type": "stream",
     "text": [
      "/var/folders/5c/dpc69bms35s7wc11y9mrgd7h001r18/T/ipykernel_98471/2925294206.py:29: DeprecationWarning: The truth value of an empty array is ambiguous. Returning False, but in future this will result in an error. Use `array.size > 0` to check that an array is not empty.\n",
      "  if relatedness.iloc[temp_idx[0],14].to_numpy(dtype='float16') > 0.05:\n"
     ]
    },
    {
     "name": "stdout",
     "output_type": "stream",
     "text": [
      "('102', '136')\n",
      "0\n",
      "[('102', '136'), ('102', '137'), ('102', '138'), ('102', '139'), ('102', '140'), ('102', '141'), ('102', '142'), ('103', '136'), ('103', '137'), ('103', '138'), ('103', '139'), ('103', '140'), ('103', '141'), ('103', '142'), ('104', '136'), ('104', '137'), ('104', '138'), ('104', '139'), ('104', '140'), ('104', '141'), ('104', '142'), ('105', '136'), ('105', '137'), ('105', '138'), ('105', '139'), ('105', '140'), ('105', '141'), ('105', '142'), ('106', '136'), ('106', '137'), ('106', '138'), ('106', '139'), ('106', '140'), ('106', '141'), ('106', '142'), ('107', '136'), ('107', '137'), ('107', '138'), ('107', '139'), ('107', '140'), ('107', '141'), ('107', '142'), ('108', '136'), ('108', '137'), ('108', '138'), ('108', '139'), ('108', '140'), ('108', '141'), ('108', '142'), ('109', '136'), ('109', '137'), ('109', '138'), ('109', '139'), ('109', '140'), ('109', '141'), ('109', '142'), ('110', '136'), ('110', '137'), ('110', '138'), ('110', '139'), ('110', '140'), ('110', '141'), ('110', '142'), ('111', '136'), ('111', '137'), ('111', '138'), ('111', '139'), ('111', '140'), ('111', '141'), ('111', '142'), ('112', '136'), ('112', '137'), ('112', '138'), ('112', '139'), ('112', '140'), ('112', '141'), ('112', '142'), ('113', '136'), ('113', '137'), ('113', '138'), ('113', '139'), ('113', '140'), ('113', '141'), ('113', '142'), ('114', '136'), ('114', '137'), ('114', '138'), ('114', '139'), ('114', '140'), ('114', '141'), ('114', '142'), ('115', '136'), ('115', '137'), ('115', '138'), ('115', '139'), ('115', '140'), ('115', '141'), ('115', '142'), ('116', '136'), ('116', '137'), ('116', '138'), ('116', '139'), ('116', '140'), ('116', '141'), ('116', '142'), ('117', '136'), ('117', '137'), ('117', '138'), ('117', '139'), ('117', '140'), ('117', '141'), ('117', '142')]\n"
     ]
    },
    {
     "name": "stderr",
     "output_type": "stream",
     "text": [
      "/var/folders/5c/dpc69bms35s7wc11y9mrgd7h001r18/T/ipykernel_98471/2925294206.py:44: VisibleDeprecationWarning: Creating an ndarray from ragged nested sequences (which is a list-or-tuple of lists-or-tuples-or ndarrays with different lengths or shapes) is deprecated. If you meant to do this, you must specify 'dtype=object' when creating the ndarray.\n",
      "  deneme=np.asarray(values_np['East_Grande_Terre_vs_East_Malabar'])\n"
     ]
    }
   ],
   "source": [
    "#in a for loop we will search through the relatedness data for the Cluster1vsCluster2 Id's and then take the rab value\n",
    "#from column14\n",
    "\n",
    "pair_ids=np.array(relatedness.iloc[:,0:2])\n",
    "\n",
    "indices_np=dict()\n",
    "values_np=dict()\n",
    "for i in range(0,len(combs)):\n",
    "    indices_np[combs[i][0]+'_vs_'+combs[i][1]]=[]\n",
    "    values_np[combs[i][0]+'_vs_'+combs[i][1]]=[]\n",
    "    for element in itertools.product(struct_np[combs[i][0]],struct_np[combs[i][1]]):\n",
    "\n",
    "\n",
    "        if int(element[0]) > int(element[1]):\n",
    "           # print('degistirelim:')\n",
    "            element_srt=sorted(element)\n",
    "        else:\n",
    "          #  print('bununla devam:')\n",
    "            element_srt=element\n",
    "            \n",
    "        #print(element)\n",
    "        indices_np[combs[i][0]+'_vs_'+combs[i][1]].append(element_srt) # element is the pair of IDa vs IDb such as 1x143\n",
    "        \n",
    "        temp_idx=np.where((pair_ids[:,0] == int(element_srt[0])) & (pair_ids[:,1] == int(element_srt[1])))        \n",
    "        #orjinali values_np[combs[i][0]+'_vs_'+combs[i][1]].append(relatedness.iloc[temp_idx[0],14].to_numpy()) # 14 is to take out rab data\n",
    "        \n",
    "        #asagi yeni ekledim\n",
    "        #print(relatedness.iloc[temp_idx[0],14].to_numpy(dtype='float16'))  \n",
    "        if relatedness.iloc[temp_idx[0],14].to_numpy(dtype='float16') > 0.05:\n",
    "            values_np[combs[i][0]+'_vs_'+combs[i][1]].append(relatedness.iloc[temp_idx[0],14].to_numpy(dtype='float16'))\n",
    "        else:\n",
    "            values_np[combs[i][0]+'_vs_'+combs[i][1]].append(0)    \n",
    "\n",
    "        \n",
    "        del temp_idx\n",
    "                \n",
    "print(indices_np['East_Malabar_vs_West_Malabar'][0])\n",
    "print(values_np['East_Malabar_vs_West_Malabar'][0])\n",
    "\n",
    "#print(values_np['East_Grande_Terre_vs_East_Malabar'][:])\n",
    "\n",
    "#plt.hist(values_np['East_Grande_Terre_vs_East_Malabar'])\n",
    "\n",
    "deneme=np.asarray(values_np['East_Grande_Terre_vs_East_Malabar'])\n",
    "\n",
    "#print(deneme)\n",
    "print(indices_np['East_Malabar_vs_West_Malabar'])\n",
    "\n",
    "\n"
   ]
  },
  {
   "cell_type": "code",
   "execution_count": 53,
   "id": "cae84f77",
   "metadata": {},
   "outputs": [
    {
     "ename": "AttributeError",
     "evalue": "'numpy.ndarray' object has no attribute 'append'",
     "output_type": "error",
     "traceback": [
      "\u001b[0;31m---------------------------------------------------------------------------\u001b[0m",
      "\u001b[0;31mAttributeError\u001b[0m                            Traceback (most recent call last)",
      "Input \u001b[0;32mIn [53]\u001b[0m, in \u001b[0;36m<cell line: 2>\u001b[0;34m()\u001b[0m\n\u001b[1;32m      1\u001b[0m aa\u001b[38;5;241m=\u001b[39m(relatedness\u001b[38;5;241m.\u001b[39miloc[temp_idx[\u001b[38;5;241m0\u001b[39m],\u001b[38;5;241m14\u001b[39m]\u001b[38;5;241m.\u001b[39mto_numpy(dtype\u001b[38;5;241m=\u001b[39m\u001b[38;5;124m'\u001b[39m\u001b[38;5;124mfloat16\u001b[39m\u001b[38;5;124m'\u001b[39m))\n\u001b[0;32m----> 2\u001b[0m \u001b[43maa\u001b[49m\u001b[38;5;241;43m.\u001b[39;49m\u001b[43mappend\u001b[49m(\u001b[38;5;241m0\u001b[39m)\n",
      "\u001b[0;31mAttributeError\u001b[0m: 'numpy.ndarray' object has no attribute 'append'"
     ]
    }
   ],
   "source": [
    "aa=(relatedness.iloc[temp_idx[0],14].to_numpy(dtype='float16'))"
   ]
  },
  {
   "cell_type": "code",
   "execution_count": 8,
   "id": "e11258c9",
   "metadata": {},
   "outputs": [
    {
     "name": "stdout",
     "output_type": "stream",
     "text": [
      "dict_keys(['SW_Grande_Terre_vs_East_Grande_Terre', 'SW_Grande_Terre_vs_East_Malabar', 'SW_Grande_Terre_vs_West_Malabar', 'East_Grande_Terre_vs_East_Malabar', 'East_Grande_Terre_vs_West_Malabar', 'East_Malabar_vs_West_Malabar'])\n"
     ]
    }
   ],
   "source": [
    "print(values_np.keys())"
   ]
  },
  {
   "cell_type": "code",
   "execution_count": 60,
   "id": "9c087cd3",
   "metadata": {},
   "outputs": [
    {
     "name": "stdout",
     "output_type": "stream",
     "text": [
      "[0 0 0 0 0 0 0 0 0 0 0 0 0 0 0 0 0 0 0 0 0 0 0 0 0 0 0 0 0 0 0 0 0 0 0 0 0\n",
      " 0 0 0 0 0 0 0 0 0 0 0 0 0 0 0 0 0 0 0 0 array([0.0832], dtype=float16) 0\n",
      " 0 0 0 0 0 0 0 0 0 0 0 0 0 0 0 0 0 0 0 0 0 0 0\n",
      " array([0.1098], dtype=float16) 0 0 0 0 0 0 0 0 0 0 0 0 0 0 0 0 0 0 0 0 0\n",
      " 0 0 0 0 0 0 0 0 0 0 0 0 0 0 0 0 0 0 0 0 0 0 0 0 0 0\n",
      " array([0.0776], dtype=float16) 0 0 0 0 0 0 0 0 0 0 0 0 0 0 0 0 0 0 0 0 0\n",
      " 0 0 0 0 0 0 0 0 0 0 0 0 0 0 0 0 0 0 0 0 0 0 0 0 0 0 0 0 0 0 0 0 0 0 0 0 0\n",
      " 0 0 0 0 0 0 0 0 0 0 0 0 0 0 0 0 0 0 0 0 0 0 0 0 0 0 0 0\n",
      " array([0.1079], dtype=float16) 0 0 0 0 0 0 0 0 0 0 0 0 0 0\n",
      " array([0.05215], dtype=float16) 0 0 0 0 0 0 0 0 0 0 0 0 0 0 0 0 0 0 0 0 0\n",
      " 0 0 0 0 0 0 0 0 0 0 0 0 0 0 0 0 0 0 0 0 0 0 0 0 0 0 0 0\n",
      " array([0.0645], dtype=float16) 0 0 0 0 0 0 0 0 0 0 0\n",
      " array([0.1005], dtype=float16) 0 0 0 0 0 0 0 0 0 0\n",
      " array([0.07605], dtype=float16) 0 array([0.1499], dtype=float16) 0 0 0 0\n",
      " 0 0 0 0 0 0 0 0 0 0 0 0 0 0 0 0 0 0 0 0 0 0 0 0 0 0 0 0 0 0 0 0 0 0 0 0 0\n",
      " 0 0 0 0 0 0 0 0 0 0 0 0 0 0 0 0 0 0 0 0 0 0 0 0 0 0 0 0 0 0 0 0 0 0 0 0 0\n",
      " 0 0 0 0 0 0 0 0 array([0.0733], dtype=float16) 0 0 0 0 0 0 0 0 0 0\n",
      " array([0.0711], dtype=float16) 0 0 0 0 0 0 0 0 0 0 0 0 0\n",
      " array([0.0593], dtype=float16) 0 0 0 0 0 0 0 0 0 0\n",
      " array([0.0787], dtype=float16) 0 array([0.1661], dtype=float16) 0 0 0 0 0\n",
      " 0 0 0 0 0 0 0 0 0 0 0 0 0 0 0 0 0 0 0 0 0 0 0 0 0 0 0 0 0 0 0 0 0 0 0 0 0\n",
      " 0 0 0 0 0 0 0 0 0 0 0 0 0 0 0 0 0 0 0 array([0.10284], dtype=float16) 0 0\n",
      " 0 0 0 0 0 0 0 0 0 0 0 0 0 0 0 0 0 0 0 0 0 0\n",
      " array([0.05942], dtype=float16) 0 0 0 0 0 0 0 0 0 0 0 0 0 0 0 0 0 0 0 0 0\n",
      " 0 0 0 array([0.194], dtype=float16) 0 0 0 0 0 0 0 0 0 0\n",
      " array([0.06152], dtype=float16) 0 array([0.07], dtype=float16) 0 0 0 0 0\n",
      " 0 0 0 0 0 0 array([0.1008], dtype=float16) 0 0 0 0 0 0 0 0 0 0 0 0 0 0 0\n",
      " 0 0 0 0 0 0 0 0 0 array([0.06287], dtype=float16) 0 0 0 0 0 0 0 0 0 0 0 0\n",
      " 0 0 0 0 0 0 0 0 0 0 0 0 array([0.09485], dtype=float16) 0 0 0 0 0 0 0 0 0\n",
      " 0 array([0.051], dtype=float16) 0 0 0 0 0 0 0 0 0 0 0 0 0 0 0 0 0 0 0 0 0\n",
      " 0 0 0 array([0.1046], dtype=float16) 0 0 0 0 0 0 0 0 0 0 0 0 0\n",
      " array([0.0848], dtype=float16) 0 0 0 0 0 0 0 0 0 0 0 0 0 0 0 0 0 0 0 0 0\n",
      " 0 0 0 0 0 0 0 0 0 0 0 0 0 0 0 0 0 0 0 0 0 0 0 0 0 0 0 0 0 0 0 0 0 0 0 0 0\n",
      " 0 0 0 0 0 0 0 0 0 0 0 0 0 0 0 0 0 0 0 0 0 0 0 0 0 0 0 0 0 0 0 0 0 0 0 0 0\n",
      " 0 0 0 0 0 0 0 0 0 0]\n",
      "775\n"
     ]
    },
    {
     "name": "stderr",
     "output_type": "stream",
     "text": [
      "/var/folders/5c/dpc69bms35s7wc11y9mrgd7h001r18/T/ipykernel_98471/3440689200.py:7: VisibleDeprecationWarning: Creating an ndarray from ragged nested sequences (which is a list-or-tuple of lists-or-tuples-or ndarrays with different lengths or shapes) is deprecated. If you meant to do this, you must specify 'dtype=object' when creating the ndarray.\n",
      "  temp_data=np.asarray(values_np['SW_Grande_Terre_vs_East_Grande_Terre'])\n"
     ]
    }
   ],
   "source": [
    "#for i, key in enumerate(values_np.keys()):\n",
    "#    print(i)\n",
    "#    print(key)\n",
    "   # print(np.asarray(np.asarray(values_np['SW_Grande_Terre_vs_East_Grande_Terre'])))\n",
    "    \n",
    "\n",
    "temp_data=np.asarray(values_np['SW_Grande_Terre_vs_East_Grande_Terre'])\n",
    "print(temp_data)\n",
    "print(temp_data.shape[0])\n",
    "\n",
    "deneme=temp_data[-5]\n",
    "\n",
    "#sifirlar=np.where(temp_data == 0)\n",
    "\n"
   ]
  },
  {
   "cell_type": "code",
   "execution_count": 134,
   "id": "f704962f",
   "metadata": {},
   "outputs": [
    {
     "name": "stdout",
     "output_type": "stream",
     "text": [
      "dict_keys(['SW_Grande_Terre_vs_East_Grande_Terre', 'SW_Grande_Terre_vs_East_Malabar', 'SW_Grande_Terre_vs_West_Malabar', 'East_Grande_Terre_vs_East_Malabar', 'East_Grande_Terre_vs_West_Malabar', 'East_Malabar_vs_West_Malabar'])\n",
      "[0 0 0 0 0 0 0 0 0 0 0 0 0 0 0 0 0 0 0 0 0 0 0 0 0 0 0 0 0 0 0 0 0 0 0 0 0\n",
      " 0 0 0 0 0 0 0 0 0 0 0 0 0 0 0 0 0 0 0 0 0 0 0 0 0 0 0 0 0 0 0 0 0 0 0 0 0\n",
      " 0 0 0 0 0 0 0 0 0 0 0 0 0 0 0 0 0 0 0 0 0 0 0 0 0 0 0 0 0 0 0 0 0 0 0 0 0\n",
      " 0]\n"
     ]
    }
   ],
   "source": [
    "print(values_np.keys())\n",
    "print(np.asarray(values_np['East_Malabar_vs_West_Malabar']))\n",
    "\n"
   ]
  },
  {
   "cell_type": "code",
   "execution_count": 98,
   "id": "7abadcf0",
   "metadata": {},
   "outputs": [
    {
     "name": "stdout",
     "output_type": "stream",
     "text": [
      "    relatedness\n",
      "0             0\n",
      "1             0\n",
      "2             0\n",
      "3             0\n",
      "4             0\n",
      "..          ...\n",
      "770           0\n",
      "771           0\n",
      "772           0\n",
      "773           0\n",
      "774           0\n",
      "\n",
      "[775 rows x 1 columns]\n"
     ]
    },
    {
     "name": "stderr",
     "output_type": "stream",
     "text": [
      "/var/folders/5c/dpc69bms35s7wc11y9mrgd7h001r18/T/ipykernel_98471/1715087949.py:1: VisibleDeprecationWarning: Creating an ndarray from ragged nested sequences (which is a list-or-tuple of lists-or-tuples-or ndarrays with different lengths or shapes) is deprecated. If you meant to do this, you must specify 'dtype=object' when creating the ndarray.\n",
      "  temp_data=np.asarray(values_np['SW_Grande_Terre_vs_East_Grande_Terre'])\n"
     ]
    }
   ],
   "source": [
    "temp_data=np.asarray(values_np['SW_Grande_Terre_vs_East_Grande_Terre'])\n",
    "temp_data_pd=pd.DataFrame(temp_data,columns=['relatedness'])\n",
    "\n",
    "print(temp_data_pd)\n",
    "\n",
    "#for i in range(0,len(temp_data)):\n",
    "#    print(temp_data[i])\n",
    "\n"
   ]
  },
  {
   "cell_type": "code",
   "execution_count": 142,
   "id": "035a3c10",
   "metadata": {},
   "outputs": [
    {
     "name": "stderr",
     "output_type": "stream",
     "text": [
      "/var/folders/5c/dpc69bms35s7wc11y9mrgd7h001r18/T/ipykernel_98471/835107032.py:3: VisibleDeprecationWarning: Creating an ndarray from ragged nested sequences (which is a list-or-tuple of lists-or-tuples-or ndarrays with different lengths or shapes) is deprecated. If you meant to do this, you must specify 'dtype=object' when creating the ndarray.\n",
      "  temp_data=np.asarray(values_np['SW_Grande_Terre_vs_East_Grande_Terre'])\n"
     ]
    },
    {
     "name": "stdout",
     "output_type": "stream",
     "text": [
      "25\n"
     ]
    },
    {
     "data": {
      "image/png": "[encoded data removed]",
      "text/plain": [
       "<Figure size 1440x864 with 8 Axes>"
      ]
     },
     "metadata": {
      "needs_background": "light"
     },
     "output_type": "display_data"
    }
   ],
   "source": [
    "# single module for histograms.\n",
    "\n",
    "temp_data=np.asarray(values_np['SW_Grande_Terre_vs_East_Grande_Terre'])\n",
    "temp_data_pd=pd.DataFrame(temp_data,columns=['relatedness'],dtype='float16')\n",
    "\n",
    "temp_data_pd['relatedness']=temp_data_pd['relatedness'].replace(0,np.nan)\n",
    "        \n",
    "fig, axs = plt.subplots(2, 4,figsize=(20, 12))\n",
    "ax1 = axs[0,0]\n",
    "sns.histplot(ax=ax1,data=temp_data_pd, x='relatedness',stat='probability').set(title='SW_Grande_Terre_vs_East_Grande_Terre')\n",
    "ax1.set_xlim([0.00, 1])\n",
    "ax1.set_ylim([0, 1])\n",
    "ax1.axvline(x = 0.05, color = 'r', label = 'threshold',linestyle='--')\n",
    "ax1.text(0.55,0.85,'total nonzero n: '+str(temp_data_pd['relatedness'].count()))\n",
    "\n"
   ]
  },
  {
   "cell_type": "code",
   "execution_count": 169,
   "id": "6498a6c9",
   "metadata": {},
   "outputs": [
    {
     "name": "stderr",
     "output_type": "stream",
     "text": [
      "/var/folders/5c/dpc69bms35s7wc11y9mrgd7h001r18/T/ipykernel_98471/2393573377.py:26: VisibleDeprecationWarning: Creating an ndarray from ragged nested sequences (which is a list-or-tuple of lists-or-tuples-or ndarrays with different lengths or shapes) is deprecated. If you meant to do this, you must specify 'dtype=object' when creating the ndarray.\n",
      "  temp_data=np.asarray(values_np['SW_Grande_Terre_vs_East_Grande_Terre'])\n",
      "/var/folders/5c/dpc69bms35s7wc11y9mrgd7h001r18/T/ipykernel_98471/2393573377.py:47: VisibleDeprecationWarning: Creating an ndarray from ragged nested sequences (which is a list-or-tuple of lists-or-tuples-or ndarrays with different lengths or shapes) is deprecated. If you meant to do this, you must specify 'dtype=object' when creating the ndarray.\n",
      "  temp_data=np.asarray(values_np['East_Grande_Terre_vs_East_Malabar'])\n",
      "/var/folders/5c/dpc69bms35s7wc11y9mrgd7h001r18/T/ipykernel_98471/2393573377.py:64: VisibleDeprecationWarning: Creating an ndarray from ragged nested sequences (which is a list-or-tuple of lists-or-tuples-or ndarrays with different lengths or shapes) is deprecated. If you meant to do this, you must specify 'dtype=object' when creating the ndarray.\n",
      "  temp_data=np.asarray(values_np['SW_Grande_Terre_vs_West_Malabar'])\n"
     ]
    },
    {
     "data": {
      "image/png": "[encoded data removed]",
      "text/plain": [
       "<Figure size 1440x864 with 4 Axes>"
      ]
     },
     "metadata": {
      "needs_background": "light"
     },
     "output_type": "display_data"
    }
   ],
   "source": [
    "# single module for histograms.\n",
    "fig, axs = plt.subplots(2, 2,figsize=(20, 12))\n",
    "bin_edges=np.linspace(0.05,1,50)\n",
    "# below is for within islands\n",
    "#dict_keys(['', 'SW_Grande_Terre_vs_East_Malabar', '','East_Grande_Terre_vs_West_Malabar', \n",
    "\n",
    "#E M vs W M\n",
    "temp_data=np.asarray(values_np['East_Malabar_vs_West_Malabar'])\n",
    "temp_data_pd=pd.DataFrame(temp_data,columns=['relatedness'],dtype='float16')\n",
    "temp_mean=temp_data_pd['relatedness'].mean()\n",
    "temp_data_pd['relatedness']=temp_data_pd['relatedness'].replace(0,np.nan)    \n",
    "ax1 = axs[0,0]\n",
    "sns.histplot(ax=ax1,data=temp_data_pd, x='relatedness',bins=bin_edges,stat='probability').set(title='East_Malabar_vs_West_Malabar')\n",
    "ax1.set_xlim([0.00, 0.5])\n",
    "ax1.set_ylim([0, 1])\n",
    "ax1.axvline(x = 0.05, color = 'r', label = 'threshold',linestyle='--')\n",
    "ax1.axvline(x = temp_mean, color = 'b', label = 'threshold',linestyle='-')\n",
    "ax1.text(0.25,0.85,'total nonzero n: '+str(temp_data_pd['relatedness'].count()))\n",
    "del temp_data_pd\n",
    "del temp_data\n",
    "del temp_mean\n",
    "\n",
    "\n",
    "\n",
    "#E GT vs S+W GT\n",
    "temp_data=np.asarray(values_np['SW_Grande_Terre_vs_East_Grande_Terre'])\n",
    "temp_data_pd=pd.DataFrame(temp_data,columns=['relatedness'],dtype='float16')\n",
    "temp_mean=temp_data_pd['relatedness'].mean()\n",
    "temp_data_pd['relatedness']=temp_data_pd['relatedness'].replace(0,np.nan)      \n",
    "ax2 = axs[0,1]\n",
    "sns.histplot(ax=ax2,data=temp_data_pd, x='relatedness',bins=bin_edges,stat='probability').set(title='SW_Grande_Terre_vs_East_Grande_Terre')\n",
    "ax2.set_xlim([0.00, 0.5])\n",
    "ax2.set_ylim([0, 1])\n",
    "ax2.axvline(x = 0.05, color = 'r', label = 'threshold',linestyle='--')\n",
    "ax2.axvline(x = temp_mean, color = 'b', label = 'threshold',linestyle='-')\n",
    "ax2.text(0.25,0.85,'total nonzero n: '+str(temp_data_pd['relatedness'].count()))\n",
    "del temp_data_pd\n",
    "del temp_data\n",
    "del temp_mean\n",
    "\n",
    "\n",
    "            #\n",
    "# below is for between islands\n",
    "           #\n",
    "           \n",
    "#E M vs E GT\n",
    "temp_data=np.asarray(values_np['East_Grande_Terre_vs_East_Malabar'])\n",
    "temp_data_pd=pd.DataFrame(temp_data,columns=['relatedness'],dtype='float16')\n",
    "temp_mean=temp_data_pd['relatedness'].mean()\n",
    "temp_data_pd['relatedness']=temp_data_pd['relatedness'].replace(0,np.nan)      \n",
    "ax3 = axs[1,0]\n",
    "sns.histplot(ax=ax3,data=temp_data_pd, x='relatedness',bins=bin_edges,stat='probability').set(title='East_Grande_Terre_vs_East_Malabar')\n",
    "ax3.set_xlim([0.00, 0.5])\n",
    "ax3.set_ylim([0, 1])\n",
    "ax3.axvline(x = 0.05, color = 'r', label = 'threshold',linestyle='--')\n",
    "ax3.axvline(x = temp_mean, color = 'b', label = 'threshold',linestyle='-')\n",
    "ax3.text(0.25,0.85,'total nonzero n: '+str(temp_data_pd['relatedness'].count()))\n",
    "del temp_data_pd\n",
    "del temp_data\n",
    "del temp_mean\n",
    "\n",
    "           \n",
    "#W M vs S+W GT\n",
    "temp_data=np.asarray(values_np['SW_Grande_Terre_vs_West_Malabar'])\n",
    "temp_data_pd=pd.DataFrame(temp_data,columns=['relatedness'],dtype='float16')\n",
    "temp_mean=temp_data_pd['relatedness'].mean()\n",
    "temp_data_pd['relatedness']=temp_data_pd['relatedness'].replace(0,np.nan)      \n",
    "ax4 = axs[1,1]\n",
    "sns.histplot(ax=ax4,data=temp_data_pd, x='relatedness',bins=bin_edges,stat='probability').set(title='SW_Grande_Terre_vs_West_Malabar')\n",
    "ax4.set_xlim([0.00, 0.5])\n",
    "ax4.set_ylim([0, 1])\n",
    "ax4.axvline(x = 0.05, color = 'r', label = 'threshold',linestyle='--')\n",
    "ax4.axvline(x = temp_mean, color = 'b', label = 'threshold',linestyle='-')\n",
    "ax4.text(0.25,0.85,'total nonzero n: '+str(temp_data_pd['relatedness'].count()))\n",
    "del temp_data_pd\n",
    "del temp_data\n",
    "del temp_mean\n",
    "\n",
    "\n",
    "\n",
    "plt.savefig('Relatedness_trial1.png',format='png',dpi=100,transparent = False,facecolor='white')\n",
    "\n",
    "\n"
   ]
  },
  {
   "cell_type": "code",
   "execution_count": 65,
   "id": "cbfbdf24",
   "metadata": {},
   "outputs": [
    {
     "name": "stdout",
     "output_type": "stream",
     "text": [
      "(496,)\n"
     ]
    },
    {
     "name": "stderr",
     "output_type": "stream",
     "text": [
      "/var/folders/5c/dpc69bms35s7wc11y9mrgd7h001r18/T/ipykernel_98471/1737982549.py:9: VisibleDeprecationWarning: Creating an ndarray from ragged nested sequences (which is a list-or-tuple of lists-or-tuples-or ndarrays with different lengths or shapes) is deprecated. If you meant to do this, you must specify 'dtype=object' when creating the ndarray.\n",
      "  temp_data=np.asarray(values_np[key])\n"
     ]
    },
    {
     "ename": "IndexError",
     "evalue": "too many indices for array: array is 1-dimensional, but 2 were indexed",
     "output_type": "error",
     "traceback": [
      "\u001b[0;31m---------------------------------------------------------------------------\u001b[0m",
      "\u001b[0;31mIndexError\u001b[0m                                Traceback (most recent call last)",
      "Input \u001b[0;32mIn [65]\u001b[0m, in \u001b[0;36m<cell line: 8>\u001b[0;34m()\u001b[0m\n\u001b[1;32m     12\u001b[0m ax \u001b[38;5;241m=\u001b[39m plt\u001b[38;5;241m.\u001b[39msubplot(\u001b[38;5;241m2\u001b[39m, \u001b[38;5;241m3\u001b[39m, i \u001b[38;5;241m+\u001b[39m \u001b[38;5;241m1\u001b[39m)\n\u001b[1;32m     13\u001b[0m \u001b[38;5;28;01mif\u001b[39;00m i\u001b[38;5;241m>\u001b[39m\u001b[38;5;241m=\u001b[39m\u001b[38;5;241m1\u001b[39m:\n\u001b[0;32m---> 14\u001b[0m     \u001b[43max\u001b[49m\u001b[38;5;241;43m.\u001b[39;49m\u001b[43mhist\u001b[49m\u001b[43m(\u001b[49m\u001b[43mtemp_data\u001b[49m\u001b[43m)\u001b[49m\n\u001b[1;32m     15\u001b[0m     \u001b[38;5;28mprint\u001b[39m(temp_data\u001b[38;5;241m.\u001b[39mshape)\n",
      "File \u001b[0;32m/opt/anaconda3/envs/aldabra/lib/python3.10/site-packages/matplotlib/__init__.py:1442\u001b[0m, in \u001b[0;36m_preprocess_data.<locals>.inner\u001b[0;34m(ax, data, *args, **kwargs)\u001b[0m\n\u001b[1;32m   1439\u001b[0m \u001b[38;5;129m@functools\u001b[39m\u001b[38;5;241m.\u001b[39mwraps(func)\n\u001b[1;32m   1440\u001b[0m \u001b[38;5;28;01mdef\u001b[39;00m \u001b[38;5;21minner\u001b[39m(ax, \u001b[38;5;241m*\u001b[39margs, data\u001b[38;5;241m=\u001b[39m\u001b[38;5;28;01mNone\u001b[39;00m, \u001b[38;5;241m*\u001b[39m\u001b[38;5;241m*\u001b[39mkwargs):\n\u001b[1;32m   1441\u001b[0m     \u001b[38;5;28;01mif\u001b[39;00m data \u001b[38;5;129;01mis\u001b[39;00m \u001b[38;5;28;01mNone\u001b[39;00m:\n\u001b[0;32m-> 1442\u001b[0m         \u001b[38;5;28;01mreturn\u001b[39;00m \u001b[43mfunc\u001b[49m\u001b[43m(\u001b[49m\u001b[43max\u001b[49m\u001b[43m,\u001b[49m\u001b[43m \u001b[49m\u001b[38;5;241;43m*\u001b[39;49m\u001b[38;5;28;43mmap\u001b[39;49m\u001b[43m(\u001b[49m\u001b[43msanitize_sequence\u001b[49m\u001b[43m,\u001b[49m\u001b[43m \u001b[49m\u001b[43margs\u001b[49m\u001b[43m)\u001b[49m\u001b[43m,\u001b[49m\u001b[43m \u001b[49m\u001b[38;5;241;43m*\u001b[39;49m\u001b[38;5;241;43m*\u001b[39;49m\u001b[43mkwargs\u001b[49m\u001b[43m)\u001b[49m\n\u001b[1;32m   1444\u001b[0m     bound \u001b[38;5;241m=\u001b[39m new_sig\u001b[38;5;241m.\u001b[39mbind(ax, \u001b[38;5;241m*\u001b[39margs, \u001b[38;5;241m*\u001b[39m\u001b[38;5;241m*\u001b[39mkwargs)\n\u001b[1;32m   1445\u001b[0m     auto_label \u001b[38;5;241m=\u001b[39m (bound\u001b[38;5;241m.\u001b[39marguments\u001b[38;5;241m.\u001b[39mget(label_namer)\n\u001b[1;32m   1446\u001b[0m                   \u001b[38;5;129;01mor\u001b[39;00m bound\u001b[38;5;241m.\u001b[39mkwargs\u001b[38;5;241m.\u001b[39mget(label_namer))\n",
      "File \u001b[0;32m/opt/anaconda3/envs/aldabra/lib/python3.10/site-packages/matplotlib/axes/_axes.py:6790\u001b[0m, in \u001b[0;36mAxes.hist\u001b[0;34m(self, x, bins, range, density, weights, cumulative, bottom, histtype, align, orientation, rwidth, log, color, label, stacked, **kwargs)\u001b[0m\n\u001b[1;32m   6786\u001b[0m \u001b[38;5;66;03m# Loop through datasets\u001b[39;00m\n\u001b[1;32m   6787\u001b[0m \u001b[38;5;28;01mfor\u001b[39;00m i \u001b[38;5;129;01min\u001b[39;00m \u001b[38;5;28mrange\u001b[39m(nx):\n\u001b[1;32m   6788\u001b[0m     \u001b[38;5;66;03m# this will automatically overwrite bins,\u001b[39;00m\n\u001b[1;32m   6789\u001b[0m     \u001b[38;5;66;03m# so that each histogram uses the same bins\u001b[39;00m\n\u001b[0;32m-> 6790\u001b[0m     m, bins \u001b[38;5;241m=\u001b[39m \u001b[43mnp\u001b[49m\u001b[38;5;241;43m.\u001b[39;49m\u001b[43mhistogram\u001b[49m\u001b[43m(\u001b[49m\u001b[43mx\u001b[49m\u001b[43m[\u001b[49m\u001b[43mi\u001b[49m\u001b[43m]\u001b[49m\u001b[43m,\u001b[49m\u001b[43m \u001b[49m\u001b[43mbins\u001b[49m\u001b[43m,\u001b[49m\u001b[43m \u001b[49m\u001b[43mweights\u001b[49m\u001b[38;5;241;43m=\u001b[39;49m\u001b[43mw\u001b[49m\u001b[43m[\u001b[49m\u001b[43mi\u001b[49m\u001b[43m]\u001b[49m\u001b[43m,\u001b[49m\u001b[43m \u001b[49m\u001b[38;5;241;43m*\u001b[39;49m\u001b[38;5;241;43m*\u001b[39;49m\u001b[43mhist_kwargs\u001b[49m\u001b[43m)\u001b[49m\n\u001b[1;32m   6791\u001b[0m     tops\u001b[38;5;241m.\u001b[39mappend(m)\n\u001b[1;32m   6792\u001b[0m tops \u001b[38;5;241m=\u001b[39m np\u001b[38;5;241m.\u001b[39marray(tops, \u001b[38;5;28mfloat\u001b[39m)  \u001b[38;5;66;03m# causes problems later if it's an int\u001b[39;00m\n",
      "File \u001b[0;32m<__array_function__ internals>:180\u001b[0m, in \u001b[0;36mhistogram\u001b[0;34m(*args, **kwargs)\u001b[0m\n",
      "File \u001b[0;32m/opt/anaconda3/envs/aldabra/lib/python3.10/site-packages/numpy/lib/histograms.py:858\u001b[0m, in \u001b[0;36mhistogram\u001b[0;34m(a, bins, range, normed, weights, density)\u001b[0m\n\u001b[1;32m    855\u001b[0m \u001b[38;5;66;03m# The index computation is not guaranteed to give exactly\u001b[39;00m\n\u001b[1;32m    856\u001b[0m \u001b[38;5;66;03m# consistent results within ~1 ULP of the bin edges.\u001b[39;00m\n\u001b[1;32m    857\u001b[0m decrement \u001b[38;5;241m=\u001b[39m tmp_a \u001b[38;5;241m<\u001b[39m bin_edges[indices]\n\u001b[0;32m--> 858\u001b[0m indices[decrement] \u001b[38;5;241m-\u001b[39m\u001b[38;5;241m=\u001b[39m \u001b[38;5;241m1\u001b[39m\n\u001b[1;32m    859\u001b[0m \u001b[38;5;66;03m# The last bin includes the right edge. The other bins do not.\u001b[39;00m\n\u001b[1;32m    860\u001b[0m increment \u001b[38;5;241m=\u001b[39m ((tmp_a \u001b[38;5;241m>\u001b[39m\u001b[38;5;241m=\u001b[39m bin_edges[indices \u001b[38;5;241m+\u001b[39m \u001b[38;5;241m1\u001b[39m])\n\u001b[1;32m    861\u001b[0m              \u001b[38;5;241m&\u001b[39m (indices \u001b[38;5;241m!=\u001b[39m n_equal_bins \u001b[38;5;241m-\u001b[39m \u001b[38;5;241m1\u001b[39m))\n",
      "\u001b[0;31mIndexError\u001b[0m: too many indices for array: array is 1-dimensional, but 2 were indexed"
     ]
    },
    {
     "data": {
      "image/png": "[encoded data removed]",
      "text/plain": [
       "<Figure size 432x288 with 3 Axes>"
      ]
     },
     "metadata": {
      "needs_background": "light"
     },
     "output_type": "display_data"
    }
   ],
   "source": [
    "plt.figure()\n",
    "plt.subplots_adjust(hspace=0.5)\n",
    "#plt.suptitle(\"Histograms\", fontsize=18, y=0.95)\n",
    "#fig, ax = plt.subplots(1, 2, sharex='col', sharey='row')\n",
    "#fig, axs = plt.subplots(2, 3, sharex='col', sharey='row')\n",
    "\n",
    "# loop through the length of tickers and keep track of index\n",
    "for i, key in enumerate(values_np.keys()):\n",
    "    temp_data=np.asarray(values_np[key])\n",
    "    #temp_data = temp_data[ (temp_data >= 0.01)]\n",
    "\n",
    "    ax = plt.subplot(2, 3, i + 1)\n",
    "    if i>=1:\n",
    "        ax.hist(temp_data)\n",
    "        print(temp_data.shape)\n",
    "      #  print(temp_data)\n",
    "    \n",
    "    # add a new subplot iteratively    \n",
    "    # filter df and plot ticker on the new subplot axis\n",
    "  #  plt.hist(np.asarray(values_np[key]),bins=10)\n",
    "    \n",
    "    \n",
    "    \n",
    "    \n",
    "    # chart formatting\n",
    "#    plt.set_title(values_np[key])\n",
    "   # ax.get_legend().remove()\n",
    "  #  ax.set_xlabel(\"\")\n",
    "\n",
    "#plt.show()       \n",
    "#for loop to convert lists into arrays\n",
    "#for i in values_np.keys():\n",
    "#    temp_array=np.asarray(values_np[i])\n",
    "#    plt.hist(temp_array,bins=10)\n"
   ]
  },
  {
   "cell_type": "code",
   "execution_count": null,
   "id": "1f1a1fa2",
   "metadata": {},
   "outputs": [],
   "source": []
  },
  {
   "cell_type": "code",
   "execution_count": null,
   "id": "ec600956",
   "metadata": {},
   "outputs": [],
   "source": [
    "relatedness= pd.read_csv(\"deneme_rm1_20_m05.txt\", sep='\\t', header=None)\n",
    "print(relatedness.head(2))\n",
    "print(relatedness.shape)\n"
   ]
  },
  {
   "cell_type": "code",
   "execution_count": null,
   "id": "35f5ce3c",
   "metadata": {},
   "outputs": [],
   "source": [
    "relatedness_matrix=np.zeros((cluster_names.shape[0],cluster_names.shape[0]))\n",
    "deneme=[]"
   ]
  },
  {
   "cell_type": "code",
   "execution_count": null,
   "id": "24ebd8c7",
   "metadata": {},
   "outputs": [],
   "source": [
    "print(relatedness.iloc[1,14])\n",
    "print(relatedness.iloc[1,0])\n",
    "print(relatedness.iloc[1,1])\n",
    "\n",
    "%print( relatedness_matrix[int(relatedness.iloc[1,0]),int(relatedness.iloc[1,1])])\n"
   ]
  },
  {
   "cell_type": "code",
   "execution_count": null,
   "id": "f54c17ff",
   "metadata": {},
   "outputs": [],
   "source": [
    "\n",
    "relatedness_matrix=np.zeros((cluster_names.shape[0],cluster_names.shape[0])) # generate an empty matrix with zeros\n",
    "\n",
    "#we fill the relatedness matrix with ida vs idb and the value in rab column.\n",
    "for i in range(1,relatedness.shape[0]):\n",
    "    relatedness_matrix[int(relatedness.iloc[i,0]),int(relatedness.iloc[i,1])]=relatedness.iloc[i,14] # 14 stands for rab column\n",
    "    relatedness_matrix[int(relatedness.iloc[i,1]),int(relatedness.iloc[i,0])]=relatedness.iloc[i,14] # 14 stands for rab column\n",
    "\n",
    "\n",
    "    "
   ]
  },
  {
   "cell_type": "code",
   "execution_count": null,
   "id": "a316007d",
   "metadata": {},
   "outputs": [],
   "source": [
    "print(relatedness_matrix[2,4])\n",
    "sns.heatmap(relatedness_matrix)"
   ]
  },
  {
   "cell_type": "code",
   "execution_count": null,
   "id": "80f4134e",
   "metadata": {},
   "outputs": [],
   "source": [
    "cluster_names_list=population_key_new['CLUSTER'].tolist()\n",
    "#cluster_names_list_srt=sorted(cluster_names_list)\n",
    "\n",
    "cluster_names_list_srt_indices=np.argsort(cluster_names_list)\n",
    "\n",
    "\n",
    "print(cluster_names_list_srt_indices[0:5])\n",
    "#print(cluster_names_list_srt[0:5])\n",
    "\n",
    "\n",
    "\n"
   ]
  },
  {
   "cell_type": "code",
   "execution_count": null,
   "id": "82b73b87",
   "metadata": {},
   "outputs": [],
   "source": [
    "#trying to reorder the matrix according to the new key\n",
    "#new_order = [0, 3, 1, 4, 2, 5]    # maps previous index to new index\n",
    "relatedness_matrix_sorted = [[relatedness_matrix[i][j] for j in cluster_names_list_srt_indices] for i in cluster_names_list_srt_indices]"
   ]
  },
  {
   "cell_type": "code",
   "execution_count": null,
   "id": "162c6d20",
   "metadata": {},
   "outputs": [],
   "source": [
    "sns.heatmap(relatedness_matrix_sorted)"
   ]
  },
  {
   "cell_type": "code",
   "execution_count": null,
   "id": "725ac32a",
   "metadata": {},
   "outputs": [],
   "source": []
  }
 ],
 "metadata": {
  "kernelspec": {
   "display_name": "aldabra",
   "language": "python",
   "name": "aldabra"
  },
  "language_info": {
   "codemirror_mode": {
    "name": "ipython",
    "version": 3
   },
   "file_extension": ".py",
   "mimetype": "text/x-python",
   "name": "python",
   "nbconvert_exporter": "python",
   "pygments_lexer": "ipython3",
   "version": "3.10.9"
  }
 },
 "nbformat": 4,
 "nbformat_minor": 5
}
