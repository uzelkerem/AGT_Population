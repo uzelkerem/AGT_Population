{
 "cells": [
  {
   "cell_type": "code",
   "execution_count": 1,
   "id": "d438bc20",
   "metadata": {},
   "outputs": [],
   "source": [
    "# Import libraries. \n",
    "# Generate images in the notebook\n",
    "%matplotlib inline\n",
    "\n",
    "import matplotlib.pyplot as plt\n",
    "import collections\n",
    "from collections import defaultdict\n",
    "import gzip\n",
    "import itertools\n",
    "import numpy as np\n",
    "import os\n",
    "import time\n",
    "import pandas as pd\n",
    "import seaborn as sns\n",
    "\n",
    "import bokeh\n",
    "import bokeh.io\n",
    "from bokeh.io import push_notebook\n",
    "from bokeh.plotting import figure, show, save, output_notebook, output_file\n",
    "\n",
    "# Import colour palettes for later on\n",
    "from bokeh.palettes import Category20b\n",
    "from bokeh.palettes import Purples\n",
    "from bokeh.palettes import Greens\n",
    "from bokeh.palettes import YlOrBr\n",
    "from bokeh.palettes import YlOrRd\n",
    "from bokeh.palettes import PuOr\n",
    "from bokeh.palettes import RdGy\n",
    "\n",
    "# Dimension reduction tools\n",
    "from sklearn.decomposition import PCA as PCA\n",
    "from sklearn.manifold import TSNE\n",
    "import umap "
   ]
  },
  {
   "cell_type": "code",
   "execution_count": 2,
   "id": "5866df4d",
   "metadata": {
    "scrolled": true
   },
   "outputs": [
    {
     "name": "stdout",
     "output_type": "stream",
     "text": [
      "0 FID   IID            CLUSTER\n",
      "0   1   ACP             Picard\n",
      "1   2   AGO             Picard\n",
      "2   3   AHC             Picard\n",
      "3   4  AM01  West_Grande_Terre\n",
      "4   5  AM07  West_Grande_Terre\n",
      "0 FID   IID          CLUSTER\n",
      "0   1   ACP           Picard\n",
      "1   2   AGO           Picard\n",
      "2   3   AHC           Picard\n",
      "3   4  AM01  SW_Grande_Terre\n",
      "4   5  AM07  SW_Grande_Terre\n"
     ]
    }
   ],
   "source": [
    "#loading population data\n",
    "population_key= pd.read_csv(\"sample_key.txt\", sep='\\t', header=None)\n",
    "#population_key.set_index()\n",
    "\n",
    "#changing the first row to headers\n",
    "headers = population_key.iloc[0]\n",
    "population_key_new  = pd.DataFrame(population_key.values[1:], columns=headers) \n",
    "print(population_key_new.head(5))\n",
    "\n",
    "# Regroup S GT and W GT together as SW GT\n",
    "population_key_new2=population_key_new\n",
    "population_key_new2.loc[population_key_new2['CLUSTER'] == 'West_Grande_Terre', 'CLUSTER'] = 'SW_Grande_Terre'\n",
    "population_key_new2.loc[population_key_new2['CLUSTER'] == 'South_Grande_Terre', 'CLUSTER'] = 'SW_Grande_Terre'\n",
    "print(population_key_new2.head(5))\n",
    "\n"
   ]
  },
  {
   "cell_type": "code",
   "execution_count": 3,
   "id": "988336ca",
   "metadata": {},
   "outputs": [],
   "source": [
    "clusters_to_check=('SW_Grande_Terre','East_Grande_Terre','East_Malabar','West_Malabar')\n",
    "#print(len(clusters_to_check))\n",
    "#print(clusters_to_check[0])\n",
    "\n",
    "#deneme\n",
    "#Pop1=population_key_new.loc[population_key_new['CLUSTER'] == 'Picard', 'FID']\n",
    "\n",
    "#print(Pop1)"
   ]
  },
  {
   "cell_type": "code",
   "execution_count": 4,
   "id": "5e9a3444",
   "metadata": {},
   "outputs": [
    {
     "name": "stdout",
     "output_type": "stream",
     "text": [
      "dict_keys(['SW_Grande_Terre', 'East_Grande_Terre', 'East_Malabar', 'West_Malabar'])\n",
      "{'SW_Grande_Terre': array(['4', '5', '6', '7', '10', '11', '12', '13', '14', '15', '16', '46',\n",
      "       '47', '48', '49', '50', '51', '53', '54', '55', '56', '57', '58',\n",
      "       '59', '60', '61', '62', '128', '129', '130', '133'], dtype=object), 'East_Grande_Terre': array(['23', '24', '25', '26', '27', '28', '29', '30', '31', '32', '33',\n",
      "       '34', '35', '36', '37', '38', '70', '71', '72', '73', '74', '131',\n",
      "       '132', '134', '135'], dtype=object), 'East_Malabar': array(['102', '103', '104', '105', '106', '107', '108', '109', '110',\n",
      "       '111', '112', '113', '114', '115', '116', '117'], dtype=object), 'West_Malabar': array(['136', '137', '138', '139', '140', '141', '142'], dtype=object)}\n"
     ]
    }
   ],
   "source": [
    "#generate a dictionary that contains clusters to check and IDs in it\n",
    "#df is the dataframe version and np is numpy array, will continue with np\n",
    "\n",
    "struct_np=dict() #initiate an empty dictionary\n",
    "\n",
    "for i in range(0,len(clusters_to_check)):\n",
    "    struct_np[clusters_to_check[i]] = np.array((population_key_new2.loc[population_key_new2['CLUSTER'] == clusters_to_check[i], 'FID']))\n",
    "\n",
    "\n",
    "#print(struct_np['South_Grande_Terre'])\n",
    "print(struct_np.keys())\n",
    "print(struct_np)"
   ]
  },
  {
   "cell_type": "code",
   "execution_count": 5,
   "id": "63a92f95",
   "metadata": {},
   "outputs": [
    {
     "name": "stdout",
     "output_type": "stream",
     "text": [
      "6\n",
      "[('SW_Grande_Terre', 'East_Grande_Terre'), ('SW_Grande_Terre', 'East_Malabar'), ('SW_Grande_Terre', 'West_Malabar'), ('East_Grande_Terre', 'East_Malabar'), ('East_Grande_Terre', 'West_Malabar'), ('East_Malabar', 'West_Malabar')]\n"
     ]
    }
   ],
   "source": [
    "#generating combinations of the clusters to check so that the histograms etc. will be as Cluster1 vs Cluster2\n",
    "from itertools import combinations\n",
    "\n",
    "combs= list(combinations(struct_np.keys(), 2))\n",
    "\n",
    "print(len(combs))\n",
    "print(combs)"
   ]
  },
  {
   "cell_type": "code",
   "execution_count": 6,
   "id": "ab9886aa",
   "metadata": {},
   "outputs": [
    {
     "name": "stdout",
     "output_type": "stream",
     "text": [
      "   a  b  ida  idb   nSites        J9        J8        J7        J6        J5  \\\n",
      "0  1  2  ACP  AGO  4398322  0.449125  0.281608  0.057019  0.055365  0.013619   \n",
      "1  1  3  ACP  AHC  4329358  0.422116  0.324969  0.023196  0.024080  0.062928   \n",
      "\n",
      "   ...         loglh  nIter  bestoptimll  coverage  \\\n",
      "0  ... -5.831279e+06    178         -1.0  0.593536   \n",
      "1  ... -5.641914e+06    178         -1.0  0.584229   \n",
      "\n",
      "                                               2dsfs        R0        R1  \\\n",
      "0  4.297776e-01,1.356807e-01,2.965957e-02,1.29289...  0.507865  0.308364   \n",
      "1  4.353710e-01,1.364934e-01,2.287467e-02,1.34146...  0.461462  0.286587   \n",
      "\n",
      "       KING  2dsfs_loglike  2dsfsf_niter  \n",
      "0 -0.003322  -6.275533e+06            30  \n",
      "1  0.015330  -6.076937e+06            30  \n",
      "\n",
      "[2 rows x 35 columns]\n"
     ]
    }
   ],
   "source": [
    "#loading relatedness data and correcting the idx so that there wont be 0 and it will match the individual samples' id\n",
    "relatedness= pd.read_csv(\"deneme_rm1_20_m05.txt\", sep='\\t') # load relatedness data\n",
    "relatedness['a']=relatedness['a']+1 # correct the IDs so that they will match the ones in the dictionaries as combinations\n",
    "relatedness['b']=relatedness['b']+1 # same as above, this time for the b column.\n",
    "print(relatedness.head(2))"
   ]
  },
  {
   "cell_type": "code",
   "execution_count": 7,
   "id": "d7bd576b",
   "metadata": {},
   "outputs": [
    {
     "name": "stdout",
     "output_type": "stream",
     "text": [
      "[ 74 133]\n",
      "[0.01]\n"
     ]
    }
   ],
   "source": [
    "#in a for loop we will search through the relatedness data for the Cluster1vsCluster2 Id's and then take the rab value\n",
    "#from column14\n",
    "\n",
    "pair_ids=np.array(relatedness.iloc[:,0:2])\n",
    "\n",
    "indices_np=dict()\n",
    "values_np=dict()\n",
    "for i in range(0,len(combs)):\n",
    "    indices_np[combs[i][0]+'_vs_'+combs[i][1]]=[]\n",
    "    values_np[combs[i][0]+'_vs_'+combs[i][1]]=[]\n",
    "    for element in itertools.product(struct_np[combs[i][0]],struct_np[combs[i][1]]):\n",
    "\n",
    "        element_lst=list(element)\n",
    "        element_srt=np.array(element_lst,dtype='int16')\n",
    "        element_srt.sort()\n",
    "        \n",
    "        #print('list:'+str(element_lst)+'array:'+str(element_srt))\n",
    "    \n",
    "        #if int(element[0]) > int(element[1]):\n",
    "        #   # print('degistirelim:')\n",
    "        #    element_srt=sorted(element)\n",
    "        #else:\n",
    "        #  #  print('bununla devam:')\n",
    "        #    element_srt=element\n",
    "            \n",
    "        #print(element)\n",
    "        indices_np[combs[i][0]+'_vs_'+combs[i][1]].append(element_srt) # element is the pair of IDa vs IDb such as 1x143\n",
    "        \n",
    "        temp_idx=np.where((pair_ids[:,0] == int(element_srt[0])) & (pair_ids[:,1] == int(element_srt[1])))        \n",
    "        #orjinali values_np[combs[i][0]+'_vs_'+combs[i][1]].append(relatedness.iloc[temp_idx[0],14].to_numpy()) # 14 is to take out rab data\n",
    "        values_np[combs[i][0]+'_vs_'+combs[i][1]].append(relatedness.iloc[temp_idx[0],14].to_numpy(dtype='float16').round(2))\n",
    "        del temp_idx\n",
    "                \n",
    "print(indices_np['SW_Grande_Terre_vs_East_Grande_Terre'][-5])\n",
    "print(values_np['SW_Grande_Terre_vs_East_Grande_Terre'][-5])\n",
    "\n",
    "#print(values_np['East_Grande_Terre_vs_East_Malabar'][:])\n",
    "\n",
    "#plt.hist(values_np['East_Grande_Terre_vs_East_Malabar'])\n",
    "\n",
    "#deneme=np.asarray(values_np['SW_Grande_Terre_vs_East_Grande_Terre'])\n",
    "\n",
    "#print(deneme)\n",
    "#print(indices_np['East_Malabar_vs_West_Malabar'])\n",
    "\n",
    "\n"
   ]
  },
  {
   "cell_type": "code",
   "execution_count": 8,
   "id": "f704962f",
   "metadata": {},
   "outputs": [
    {
     "name": "stdout",
     "output_type": "stream",
     "text": [
      "dict_keys(['SW_Grande_Terre_vs_East_Grande_Terre', 'SW_Grande_Terre_vs_East_Malabar', 'SW_Grande_Terre_vs_West_Malabar', 'East_Grande_Terre_vs_East_Malabar', 'East_Grande_Terre_vs_West_Malabar', 'East_Malabar_vs_West_Malabar'])\n"
     ]
    }
   ],
   "source": [
    "print(values_np.keys())\n",
    "#print(np.asarray(values_np['East_Malabar_vs_West_Malabar']))\n",
    "\n"
   ]
  },
  {
   "cell_type": "code",
   "execution_count": null,
   "id": "035a3c10",
   "metadata": {},
   "outputs": [],
   "source": [
    "# single module for histograms.\n",
    "\n",
    "temp_data=np.asarray(values_np['SW_Grande_Terre_vs_East_Grande_Terre'])\n",
    "temp_data_pd=pd.DataFrame(temp_data,columns=['relatedness'],dtype='float16')\n",
    "\n",
    "#temp_data_pd['relatedness']=temp_data_pd['relatedness'].replace(0,np.nan)\n",
    "        \n",
    "fig, axs = plt.subplots(2, 2,figsize=(20, 12))\n",
    "ax1 = axs[0,0]\n",
    "sns.histplot(ax=ax1,data=temp_data_pd, x='relatedness',stat='probability').set(title='SW_Grande_Terre_vs_East_Grande_Terre')\n",
    "ax1.set_xlim([0.00, 1])\n",
    "ax1.set_ylim([0, 1])\n",
    "#ax1.axvline(x = 0.05, color = 'r', label = 'threshold',linestyle='--')\n",
    "ax1.text(0.55,0.85,'total n: '+str(temp_data_pd['relatedness'].count()))\n",
    "\n"
   ]
  },
  {
   "cell_type": "code",
   "execution_count": 9,
   "id": "6498a6c9",
   "metadata": {},
   "outputs": [
    {
     "data": {
      "image/png": "[encoded data removed]",
      "text/plain": [
       "<Figure size 1440x864 with 4 Axes>"
      ]
     },
     "metadata": {
      "needs_background": "light"
     },
     "output_type": "display_data"
    }
   ],
   "source": [
    "# subplots for histograms.\n",
    "fig, axs = plt.subplots(2, 2,figsize=(20, 12))\n",
    "bin_edges=np.linspace(0.0,1,50)\n",
    "threshold=0.00\n",
    "# below is for within islands\n",
    "\n",
    "#E M vs W M\n",
    "temp_data=np.asarray(values_np['East_Malabar_vs_West_Malabar'])\n",
    "temp_data_pd=pd.DataFrame(temp_data,columns=['relatedness'],dtype='float16')\n",
    "temp_mean=temp_data_pd['relatedness'].mean()\n",
    "temp_data_pd.loc[temp_data_pd['relatedness']<threshold]=np.nan\n",
    "#temp_data_pd['relatedness']=temp_data_pd['relatedness'].replace(0,np.nan)    \n",
    "ax1 = axs[0,0]\n",
    "sns.histplot(ax=ax1,data=temp_data_pd, x='relatedness',bins=bin_edges,stat='probability').set(title='East_Malabar_vs_West_Malabar')\n",
    "ax1.set_xlim([0.05, 0.5])\n",
    "ax1.set_ylim([0, 1])\n",
    "#ax1.axvline(x = 0.05, color = 'r', label = 'threshold',linestyle='--')\n",
    "ax1.axvline(x = temp_mean, color = 'b', label = 'threshold',linestyle='-')\n",
    "ax1.text(0.25,0.85,'total n: '+str(temp_data_pd['relatedness'].count()))\n",
    "ax1.text(0.25,0.75,'total n > 0.05: '+str(temp_data_pd.loc[temp_data_pd['relatedness']>=0.05].count()[0]))\n",
    "\n",
    "del temp_data_pd\n",
    "del temp_data\n",
    "del temp_mean\n",
    "\n",
    "\n",
    "\n",
    "#E GT vs S+W GT\n",
    "temp_data=np.asarray(values_np['SW_Grande_Terre_vs_East_Grande_Terre'])\n",
    "temp_data_pd=pd.DataFrame(temp_data,columns=['relatedness'],dtype='float16')\n",
    "temp_mean=temp_data_pd['relatedness'].mean()\n",
    "temp_data_pd.loc[temp_data_pd['relatedness']<threshold]=np.nan\n",
    "#temp_data_pd['relatedness']=temp_data_pd['relatedness'].replace(0,np.nan)      \n",
    "ax2 = axs[0,1]\n",
    "sns.histplot(ax=ax2,data=temp_data_pd, x='relatedness',bins=bin_edges,stat='probability').set(title='SW_Grande_Terre_vs_East_Grande_Terre')\n",
    "ax2.set_xlim([0.00, 0.5])\n",
    "ax2.set_ylim([0, 1])\n",
    "#ax2.axvline(x = 0.05, color = 'r', label = 'threshold',linestyle='--')\n",
    "ax2.axvline(x = temp_mean, color = 'b', label = 'threshold',linestyle='-')\n",
    "ax2.text(0.25,0.85,'total n: '+str(temp_data_pd['relatedness'].count()))\n",
    "ax2.text(0.25,0.75,'total n > 0.05: '+str(temp_data_pd.loc[temp_data_pd['relatedness']>=0.05].count()[0]))\n",
    "\n",
    "\n",
    "del temp_data_pd\n",
    "del temp_data\n",
    "del temp_mean\n",
    "\n",
    "\n",
    "            #\n",
    "# below is for between islands\n",
    "           #\n",
    "           \n",
    "#E M vs E GT\n",
    "temp_data=np.asarray(values_np['East_Grande_Terre_vs_East_Malabar'])\n",
    "temp_data_pd=pd.DataFrame(temp_data,columns=['relatedness'],dtype='float16')\n",
    "temp_mean=temp_data_pd['relatedness'].mean()\n",
    "temp_data_pd.loc[temp_data_pd['relatedness']<threshold]=np.nan\n",
    "#temp_data_pd['relatedness']=temp_data_pd['relatedness'].replace(0,np.nan)      \n",
    "ax3 = axs[1,0]\n",
    "sns.histplot(ax=ax3,data=temp_data_pd, x='relatedness',bins=bin_edges,stat='probability').set(title='East_Grande_Terre_vs_East_Malabar')\n",
    "ax3.set_xlim([0.00, 0.5])\n",
    "ax3.set_ylim([0, 1])\n",
    "#ax3.axvline(x = 0.05, color = 'r', label = 'threshold',linestyle='--')\n",
    "ax3.axvline(x = temp_mean, color = 'b', label = 'threshold',linestyle='-')\n",
    "ax3.text(0.25,0.85,'total n: '+str(temp_data_pd['relatedness'].count()))\n",
    "ax3.text(0.25,0.75,'total n > 0.05: '+str(temp_data_pd.loc[temp_data_pd['relatedness']>=0.05].count()[0]))\n",
    "\n",
    "\n",
    "del temp_data_pd\n",
    "del temp_data\n",
    "del temp_mean\n",
    "\n",
    "           \n",
    "#W M vs S+W GT\n",
    "temp_data=np.asarray(values_np['SW_Grande_Terre_vs_West_Malabar'])\n",
    "temp_data_pd=pd.DataFrame(temp_data,columns=['relatedness'],dtype='float16')\n",
    "temp_mean=temp_data_pd['relatedness'].mean()\n",
    "temp_data_pd.loc[temp_data_pd['relatedness']<threshold]=np.nan\n",
    "#temp_data_pd['relatedness']=temp_data_pd['relatedness'].replace(0,np.nan)      \n",
    "ax4 = axs[1,1]\n",
    "sns.histplot(ax=ax4,data=temp_data_pd, x='relatedness',bins=bin_edges,stat='probability').set(title='SW_Grande_Terre_vs_West_Malabar')\n",
    "ax4.set_xlim([0.00, 0.5])\n",
    "ax4.set_ylim([0, 1])\n",
    "#ax4.axvline(x = 0.05, color = 'r', label = 'threshold',linestyle='--')\n",
    "ax4.axvline(x = temp_mean, color = 'b', label = 'threshold',linestyle='-')\n",
    "ax4.text(0.25,0.85,'total n: '+str(temp_data_pd['relatedness'].count()))\n",
    "ax4.text(0.25,0.75,'total n > 0.05: '+str(temp_data_pd.loc[temp_data_pd['relatedness']>=0.05].count()[0]))\n",
    "\n",
    "\n",
    "del temp_data_pd\n",
    "del temp_data\n",
    "del temp_mean\n",
    "\n",
    "\n",
    "\n",
    "#plt.savefig('Relatedness_4plots_xlim0.png',format='png',dpi=100,transparent = False,facecolor='white')\n",
    "\n",
    "\n"
   ]
  },
  {
   "cell_type": "code",
   "execution_count": null,
   "id": "1f1a1fa2",
   "metadata": {},
   "outputs": [],
   "source": [
    "# get the cluster names\n",
    "population_key_df= pd.DataFrame(population_key.values[1:], columns=headers) \n",
    "\n",
    "print(population_key_new['CLUSTER'].unique())\n",
    "\n",
    "print(population_key_df.head(5))\n"
   ]
  },
  {
   "cell_type": "code",
   "execution_count": null,
   "id": "35f5ce3c",
   "metadata": {},
   "outputs": [],
   "source": [
    "#initiate a relatedness matrix\n",
    "relatedness_matrix=np.zeros((cluster_names.shape[0],cluster_names.shape[0]))\n",
    "deneme=[]"
   ]
  },
  {
   "cell_type": "code",
   "execution_count": null,
   "id": "24ebd8c7",
   "metadata": {},
   "outputs": [],
   "source": [
    "print(relatedness.iloc[1,14])\n",
    "print(relatedness.iloc[1,0])\n",
    "print(relatedness.iloc[1,1])\n",
    "\n",
    "%print( relatedness_matrix[int(relatedness.iloc[1,0]),int(relatedness.iloc[1,1])])\n"
   ]
  },
  {
   "cell_type": "code",
   "execution_count": null,
   "id": "f54c17ff",
   "metadata": {},
   "outputs": [],
   "source": [
    "\n",
    "relatedness_matrix=np.zeros((cluster_names.shape[0],cluster_names.shape[0])) # generate an empty matrix with zeros\n",
    "\n",
    "#we fill the relatedness matrix with ida vs idb and the value in rab column.\n",
    "for i in range(1,relatedness.shape[0]):\n",
    "    relatedness_matrix[int(relatedness.iloc[i,0]),int(relatedness.iloc[i,1])]=relatedness.iloc[i,14] # 14 stands for rab column\n",
    "    relatedness_matrix[int(relatedness.iloc[i,1]),int(relatedness.iloc[i,0])]=relatedness.iloc[i,14] # 14 stands for rab column\n",
    "\n",
    "\n",
    "    "
   ]
  },
  {
   "cell_type": "code",
   "execution_count": null,
   "id": "a316007d",
   "metadata": {},
   "outputs": [],
   "source": [
    "print(relatedness_matrix[2,4])\n",
    "sns.heatmap(relatedness_matrix)"
   ]
  },
  {
   "cell_type": "code",
   "execution_count": null,
   "id": "80f4134e",
   "metadata": {},
   "outputs": [],
   "source": [
    "cluster_names_list=population_key_new['CLUSTER'].tolist()\n",
    "#cluster_names_list_srt=sorted(cluster_names_list)\n",
    "\n",
    "cluster_names_list_srt_indices=np.argsort(cluster_names_list)\n",
    "\n",
    "\n",
    "print(cluster_names_list_srt_indices[0:5])\n",
    "#print(cluster_names_list_srt[0:5])\n",
    "\n",
    "\n",
    "\n"
   ]
  },
  {
   "cell_type": "code",
   "execution_count": null,
   "id": "82b73b87",
   "metadata": {},
   "outputs": [],
   "source": [
    "#trying to reorder the matrix according to the new key\n",
    "#new_order = [0, 3, 1, 4, 2, 5]    # maps previous index to new index\n",
    "relatedness_matrix_sorted = [[relatedness_matrix[i][j] for j in cluster_names_list_srt_indices] for i in cluster_names_list_srt_indices]"
   ]
  },
  {
   "cell_type": "code",
   "execution_count": null,
   "id": "162c6d20",
   "metadata": {},
   "outputs": [],
   "source": [
    "sns.heatmap(relatedness_matrix_sorted)"
   ]
  },
  {
   "cell_type": "code",
   "execution_count": null,
   "id": "725ac32a",
   "metadata": {},
   "outputs": [],
   "source": []
  }
 ],
 "metadata": {
  "kernelspec": {
   "display_name": "aldabra",
   "language": "python",
   "name": "aldabra"
  },
  "language_info": {
   "codemirror_mode": {
    "name": "ipython",
    "version": 3
   },
   "file_extension": ".py",
   "mimetype": "text/x-python",
   "name": "python",
   "nbconvert_exporter": "python",
   "pygments_lexer": "ipython3",
   "version": "3.10.9"
  }
 },
 "nbformat": 4,
 "nbformat_minor": 5
}
