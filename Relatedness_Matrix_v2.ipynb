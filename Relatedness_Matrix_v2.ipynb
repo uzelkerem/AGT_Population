{
 "cells": [
  {
   "cell_type": "code",
   "execution_count": 1,
   "id": "3553c8f5",
   "metadata": {},
   "outputs": [],
   "source": [
    "# Import libraries. \n",
    "# Generate images in the notebook\n",
    "%matplotlib inline\n",
    "\n",
    "import matplotlib.pyplot as plt\n",
    "import collections\n",
    "from collections import defaultdict\n",
    "import gzip\n",
    "import itertools\n",
    "import numpy as np\n",
    "import os\n",
    "import time\n",
    "import pandas as pd\n",
    "import seaborn as sns\n",
    "\n",
    "import bokeh\n",
    "import bokeh.io\n",
    "from bokeh.io import push_notebook\n",
    "from bokeh.plotting import figure, show, save, output_notebook, output_file\n",
    "\n",
    "# Import colour palettes for later on\n",
    "from bokeh.palettes import Category20b\n",
    "from bokeh.palettes import Purples\n",
    "from bokeh.palettes import Greens\n",
    "from bokeh.palettes import YlOrBr\n",
    "from bokeh.palettes import YlOrRd\n",
    "from bokeh.palettes import PuOr\n",
    "from bokeh.palettes import RdGy\n",
    "\n",
    "# Dimension reduction tools\n",
    "from sklearn.decomposition import PCA as PCA\n",
    "from sklearn.manifold import TSNE\n",
    "import umap "
   ]
  },
  {
   "cell_type": "code",
   "execution_count": 6,
   "id": "07a11fed",
   "metadata": {},
   "outputs": [
    {
     "name": "stdout",
     "output_type": "stream",
     "text": [
      "['SWG' 'WM' 'EG' 'EM']\n",
      "['SWG', 'EG', 'EM', 'WM']\n"
     ]
    }
   ],
   "source": [
    "#loading population data\n",
    "population_key= pd.read_csv(\"sample_key_tsneguided.txt\", sep='\\t', header=None)\n",
    "#population_key.set_index()\n",
    "\n",
    "#changing the first row to headers\n",
    "headers = population_key.iloc[0]\n",
    "population_key_df  = pd.DataFrame(population_key.values[1:], columns=headers) \n",
    "\n",
    "print(population_key_df['CLUSTER'].unique())\n",
    "\n",
    "cluster_names=population_key_df['CLUSTER'].unique()\n",
    "cluster_names_sorted=population_key_df['CLUSTER'].value_counts().index.tolist()\n"
   ]
  },
  {
   "cell_type": "code",
   "execution_count": 7,
   "id": "c1f8d1bf",
   "metadata": {},
   "outputs": [
    {
     "name": "stdout",
     "output_type": "stream",
     "text": [
      "['SWG', 'EG', 'EM', 'WM']\n"
     ]
    }
   ],
   "source": [
    "#print(population_key_df.head(3))\n",
    "\n",
    "#print(population_key_df.sort_values(by='CLUSTER',ascending=True))\n",
    "print(population_key_df['CLUSTER'].value_counts().index.tolist())\n",
    "\n",
    "#aa=population_key_df.sort_values(by='CLUSTER')\n",
    "\n",
    "\n",
    "\n",
    "\n",
    "\n"
   ]
  },
  {
   "cell_type": "code",
   "execution_count": 8,
   "id": "cac3083b",
   "metadata": {},
   "outputs": [
    {
     "name": "stdout",
     "output_type": "stream",
     "text": [
      "0   FID    IID CLUSTER\n",
      "11   23   CC01      EG\n",
      "12   24   CC02      EG\n",
      "13   25   CC03      EG\n",
      "14   26   CC06      EG\n",
      "15   27   CC14      EG\n",
      "17   29   CC21      EG\n",
      "19   31   CC25      EG\n",
      "20   32   CC26      EG\n",
      "21   33   CC27      EG\n",
      "22   34   CC31      EG\n",
      "23   35   CC32      EG\n",
      "24   36   CC33      EG\n",
      "25   37   CC36      EG\n",
      "26   38   CC41      EG\n",
      "43   70  GTE01      EG\n",
      "45   72  GTE03      EG\n",
      "47   74  GTE05      EG\n",
      "67  131   TK05      EG\n",
      "68  132   TK06      EG\n",
      "70  134   TK11      EG\n",
      "71  135   TK12      EG\n"
     ]
    }
   ],
   "source": [
    "print(population_key_df.loc[population_key_df['CLUSTER'] == cluster_names_sorted[1]])"
   ]
  },
  {
   "cell_type": "code",
   "execution_count": 36,
   "id": "c4b3c5f2",
   "metadata": {},
   "outputs": [
    {
     "name": "stdout",
     "output_type": "stream",
     "text": [
      "0   FID    IID CLUSTER\n",
      "0     4   AM01     SWG\n",
      "1     5   AM07     SWG\n",
      "2     6   AM17     SWG\n",
      "3     7   AM21     SWG\n",
      "4    10   ANM1     SWG\n",
      "..  ...    ...     ...\n",
      "73  137  WMAL2      WM\n",
      "74  138  WMAL3      WM\n",
      "75  139  WMAL4      WM\n",
      "76  140  WMAL5      WM\n",
      "77  141  WMAL6      WM\n",
      "\n",
      "[79 rows x 3 columns]\n"
     ]
    },
    {
     "name": "stderr",
     "output_type": "stream",
     "text": [
      "/var/folders/5c/dpc69bms35s7wc11y9mrgd7h001r18/T/ipykernel_68014/377124554.py:8: FutureWarning: The frame.append method is deprecated and will be removed from pandas in a future version. Use pandas.concat instead.\n",
      "  Order_df= Order_df.append(population_key_df.loc[population_key_df['CLUSTER'] == cluster_names_sorted[i]])\n",
      "/var/folders/5c/dpc69bms35s7wc11y9mrgd7h001r18/T/ipykernel_68014/377124554.py:8: FutureWarning: The frame.append method is deprecated and will be removed from pandas in a future version. Use pandas.concat instead.\n",
      "  Order_df= Order_df.append(population_key_df.loc[population_key_df['CLUSTER'] == cluster_names_sorted[i]])\n",
      "/var/folders/5c/dpc69bms35s7wc11y9mrgd7h001r18/T/ipykernel_68014/377124554.py:8: FutureWarning: The frame.append method is deprecated and will be removed from pandas in a future version. Use pandas.concat instead.\n",
      "  Order_df= Order_df.append(population_key_df.loc[population_key_df['CLUSTER'] == cluster_names_sorted[i]])\n",
      "/var/folders/5c/dpc69bms35s7wc11y9mrgd7h001r18/T/ipykernel_68014/377124554.py:8: FutureWarning: The frame.append method is deprecated and will be removed from pandas in a future version. Use pandas.concat instead.\n",
      "  Order_df= Order_df.append(population_key_df.loc[population_key_df['CLUSTER'] == cluster_names_sorted[i]])\n"
     ]
    }
   ],
   "source": [
    "#generate a dictionary that contains clusters to check and IDs in it\n",
    "#df is the dataframe version and np is numpy array, will continue with np\n",
    "\n",
    "#struct_np=dict() #initiate an empty dictionary\n",
    "Order_df=pd.DataFrame()\n",
    "\n",
    "for i in range(0,len(cluster_names)):\n",
    "       Order_df= Order_df.append(population_key_df.loc[population_key_df['CLUSTER'] == cluster_names_sorted[i]])\n",
    "\n",
    "        \n",
    "print(Order_df)\n",
    "Order_df['FID'] = Order_df['FID'].astype('int')\n",
    "\n",
    "#Order_df.loc[\"FID\"] -= 1\n",
    "\n",
    "print(Order_df)\n",
    "\n"
   ]
  },
  {
   "cell_type": "code",
   "execution_count": 23,
   "id": "f9d0a515",
   "metadata": {},
   "outputs": [
    {
     "name": "stdout",
     "output_type": "stream",
     "text": [
      "0.009893\n"
     ]
    }
   ],
   "source": [
    "#loading relatedness data and correcting the idx so that there wont be 0 and it will match the individual samples' id\n",
    "#relatedness= pd.read_csv(\"deneme_rm1_20_m05.txt\", sep='\\t') # load relatedness data\n",
    "relatedness_matrix= pd.read_excel(r'relatedness_mm1_20_ID_nopara_mmq30.xls') # load relatedness matrix data\n",
    "relatedness_matrix_np=relatedness_matrix.to_numpy()"
   ]
  },
  {
   "cell_type": "code",
   "execution_count": 42,
   "id": "2d34f33e",
   "metadata": {},
   "outputs": [
    {
     "name": "stdout",
     "output_type": "stream",
     "text": [
      "0.029292\n"
     ]
    }
   ],
   "source": [
    "i=0\n",
    "j=1\n",
    "\n",
    "print(relatedness_matrix_np[Order_df['FID'].iloc[i]-1,Order_df['FID'].iloc[j]-1]) #-1 stands for the correction of FID values to indices in python np relatedness matrix"
   ]
  },
  {
   "cell_type": "code",
   "execution_count": 51,
   "id": "0d444590",
   "metadata": {},
   "outputs": [],
   "source": [
    "#generating a reduced relatedness matrix with 79 entries instead of 143\n",
    "relatedness_matrix_reduced=np.zeros((Order_df.shape[0],Order_df.shape[0])) # generate an empty matrix with zeros\n",
    "\n",
    "\n",
    "for i in range(0,Order_df.shape[0]):\n",
    "    for j in range(0,Order_df.shape[0]):\n",
    "        if i <= j:\n",
    "            if i == j:\n",
    "                relatedness_matrix_reduced[i,j]=np.nan\n",
    "            else:\n",
    "                relatedness_matrix_reduced[i,j]=relatedness_matrix_np[Order_df['FID'].iloc[i]-1,Order_df['FID'].iloc[j]-1] #-1 stands for the correction of FID values to indices in python np relatedness matrix\n",
    "                relatedness_matrix_reduced[j,i]=relatedness_matrix_np[Order_df['FID'].iloc[i]-1,Order_df['FID'].iloc[j]-1] #-1 stands for the correction of FID values to indices in python np relatedness matrix\n",
    "\n"
   ]
  },
  {
   "cell_type": "code",
   "execution_count": 55,
   "id": "5ee2d371",
   "metadata": {},
   "outputs": [
    {
     "data": {
      "image/png": "[encoded data removed]",
      "text/plain": [
       "<Figure size 1008x864 with 2 Axes>"
      ]
     },
     "metadata": {
      "needs_background": "light"
     },
     "output_type": "display_data"
    }
   ],
   "source": [
    "plt.figure(figsize=(14,12))\n",
    "sns.heatmap(relatedness_matrix_reduced,xticklabels=Order_df['IID'],yticklabels=Order_df['CLUSTER'],cmap='Reds',vmin=0, vmax=0.3)\n",
    "plt.savefig('Relatedness_Heatmap_sortedbynewclusters79.png',format='png',dpi=100,transparent = False,facecolor='white')\n",
    "\n"
   ]
  },
  {
   "cell_type": "code",
   "execution_count": null,
   "id": "82e10084",
   "metadata": {},
   "outputs": [],
   "source": []
  },
  {
   "cell_type": "code",
   "execution_count": null,
   "id": "d1fb9765",
   "metadata": {},
   "outputs": [],
   "source": []
  }
 ],
 "metadata": {
  "kernelspec": {
   "display_name": "aldabra",
   "language": "python",
   "name": "aldabra"
  },
  "language_info": {
   "codemirror_mode": {
    "name": "ipython",
    "version": 3
   },
   "file_extension": ".py",
   "mimetype": "text/x-python",
   "name": "python",
   "nbconvert_exporter": "python",
   "pygments_lexer": "ipython3",
   "version": "3.10.9"
  }
 },
 "nbformat": 4,
 "nbformat_minor": 5
}
